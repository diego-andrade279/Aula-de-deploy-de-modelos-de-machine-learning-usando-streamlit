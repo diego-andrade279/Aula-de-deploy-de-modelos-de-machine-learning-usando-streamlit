{
  "nbformat": 4,
  "nbformat_minor": 0,
  "metadata": {
    "colab": {
      "provenance": [],
      "collapsed_sections": [],
      "include_colab_link": true
    },
    "kernelspec": {
      "name": "python3",
      "display_name": "Python 3"
    },
    "language_info": {
      "name": "python"
    }
  },
  "cells": [
    {
      "cell_type": "markdown",
      "metadata": {
        "id": "view-in-github",
        "colab_type": "text"
      },
      "source": [
        "<a href=\"https://colab.research.google.com/github/diego-andrade279/Aula-de-deploy-de-modelos-de-machine-learning-usando-streamlit/blob/main/Regress%C3%A3o_Aula_II.ipynb\" target=\"_parent\"><img src=\"https://colab.research.google.com/assets/colab-badge.svg\" alt=\"Open In Colab\"/></a>"
      ]
    },
    {
      "cell_type": "code",
      "execution_count": null,
      "metadata": {
        "id": "jCN4JcDrbgKw"
      },
      "outputs": [],
      "source": [
        "import pandas as pd\n",
        "import matplotlib.pyplot as plt\n",
        "import seaborn as sns\n",
        "import numpy as np\n",
        "\n",
        "from pydrive.auth import GoogleAuth \n",
        "from pydrive.drive import GoogleDrive \n",
        "from google.colab import auth \n",
        "from oauth2client.client import GoogleCredentials \n",
        "import statsmodels.api as sm\n",
        "import xlrd\n",
        "pd.set_option('display.max_columns', None)\n",
        "pd.set_option('display.max_rows', None)"
      ]
    },
    {
      "cell_type": "code",
      "source": [
        "from sklearn.model_selection import GridSearchCV, RandomizedSearchCV\n",
        "from sklearn.linear_model import LinearRegression\n",
        "from sklearn.metrics import mean_absolute_error, mean_squared_error, r2_score, mean_squared_log_error\n",
        "from sklearn.model_selection import train_test_split\n",
        "from sklearn.ensemble import (RandomForestRegressor, GradientBoostingRegressor, AdaBoostRegressor)\n",
        "import pandas as pd\n",
        "import matplotlib.pyplot as plt\n",
        "import seaborn as sns\n",
        "from sklearn import preprocessing\n",
        "import numpy as np\n",
        "from sklearn.preprocessing import StandardScaler\n",
        "from sklearn.tree import export_graphviz\n",
        "import pydot\n",
        "from sklearn.preprocessing import LabelEncoder\n",
        "from sklearn.pipeline import Pipeline\n",
        "from sklearn.compose import ColumnTransformer\n",
        "from sklearn.impute import SimpleImputer\n",
        "from sklearn.preprocessing import StandardScaler\n",
        "from sklearn.preprocessing import MinMaxScaler\n",
        "from pandas_profiling import ProfileReport\n",
        "\n",
        "\n",
        "import warnings\n",
        "warnings.filterwarnings('ignore')"
      ],
      "metadata": {
        "id": "dx1N5k5Bcb-U"
      },
      "execution_count": null,
      "outputs": []
    },
    {
      "cell_type": "code",
      "source": [
        "auth.authenticate_user() \n",
        "gauth = GoogleAuth() \n",
        "gauth.credentials = GoogleCredentials.get_application_default() \n",
        "drive = GoogleDrive(gauth)"
      ],
      "metadata": {
        "id": "EaDGCqP3bhEn"
      },
      "execution_count": null,
      "outputs": []
    },
    {
      "cell_type": "code",
      "source": [
        "# Baixa os dados de treinamento\n",
        "link = 'https://drive.google.com/file/d/1qdnOt7JuOZE3_O13T2CROPS12QFa15WT/view?usp=sharing'\n",
        "id = link.split(\"/\")[-2]\n",
        "downloaded = drive.CreateFile({'id':id})\n",
        "downloaded.GetContentFile('house prices train.csv')\n",
        "train = pd.read_csv('house prices train.csv')\n",
        "train.shape"
      ],
      "metadata": {
        "colab": {
          "base_uri": "https://localhost:8080/"
        },
        "id": "JlublunMbi8o",
        "outputId": "dd4b0bcd-68f0-4fde-9c26-1fa9fcbd6f3c"
      },
      "execution_count": null,
      "outputs": [
        {
          "output_type": "execute_result",
          "data": {
            "text/plain": [
              "(1460, 81)"
            ]
          },
          "metadata": {},
          "execution_count": 3
        }
      ]
    },
    {
      "cell_type": "code",
      "source": [
        "# Baixa os dados de teste\n",
        "link = 'https://drive.google.com/file/d/1gv3uFRhTRdCfDktOy2QR1xnlOquKFzib/view?usp=sharing'\n",
        "id = link.split(\"/\")[-2]\n",
        "downloaded = drive.CreateFile({'id':id})\n",
        "downloaded.GetContentFile('house prices test.csv')\n",
        "\n",
        "test = pd.read_csv('house prices test.csv')\n",
        "test.shape"
      ],
      "metadata": {
        "colab": {
          "base_uri": "https://localhost:8080/"
        },
        "id": "0ctdBb76b6qE",
        "outputId": "8df0dfb3-a704-45b0-da15-a0e0d83e057e"
      },
      "execution_count": null,
      "outputs": [
        {
          "output_type": "execute_result",
          "data": {
            "text/plain": [
              "(1459, 80)"
            ]
          },
          "metadata": {},
          "execution_count": 4
        }
      ]
    },
    {
      "cell_type": "code",
      "source": [
        "# cria variável SalePrice no dataset de test para facilitar manipulação dos dados de treino e teste juntos\n",
        "test['SalePrice'] = 0"
      ],
      "metadata": {
        "id": "LrUBAAdmb9m8"
      },
      "execution_count": null,
      "outputs": []
    },
    {
      "cell_type": "code",
      "source": [
        "# Junta os dois datasets\n",
        "frames = [train, test]\n",
        "df = pd.concat(frames)"
      ],
      "metadata": {
        "id": "5p4RsRCub_j7"
      },
      "execution_count": null,
      "outputs": []
    },
    {
      "cell_type": "code",
      "source": [
        "percent_missing = df.isnull().sum() * 100 / len(df) # Soma dos dados faltantes divido pela quantidade de registros para calcular percentual\n",
        "# gera um dataset com duas colunas colunm name e missing percent\n",
        "missing_value_df = pd.DataFrame({'column_name': df.columns, \n",
        "                                 'percent_missing': percent_missing})\n",
        "missing_value_df.sort_values(['percent_missing'], ascending=False) # apresenta ordenado do maior para o menor "
      ],
      "metadata": {
        "colab": {
          "base_uri": "https://localhost:8080/",
          "height": 1000
        },
        "id": "pScKO6DBdIdD",
        "outputId": "3be0cf53-af31-40a9-c0bb-1028f812ee1d"
      },
      "execution_count": null,
      "outputs": [
        {
          "output_type": "execute_result",
          "data": {
            "text/plain": [
              "                 column_name  percent_missing\n",
              "PoolQC                PoolQC        99.657417\n",
              "MiscFeature      MiscFeature        96.402878\n",
              "Alley                  Alley        93.216855\n",
              "Fence                  Fence        80.438506\n",
              "FireplaceQu      FireplaceQu        48.646797\n",
              "LotFrontage      LotFrontage        16.649538\n",
              "GarageFinish    GarageFinish         5.447071\n",
              "GarageQual        GarageQual         5.447071\n",
              "GarageCond        GarageCond         5.447071\n",
              "GarageYrBlt      GarageYrBlt         5.447071\n",
              "GarageType        GarageType         5.378554\n",
              "BsmtExposure    BsmtExposure         2.809181\n",
              "BsmtCond            BsmtCond         2.809181\n",
              "BsmtQual            BsmtQual         2.774923\n",
              "BsmtFinType2    BsmtFinType2         2.740665\n",
              "BsmtFinType1    BsmtFinType1         2.706406\n",
              "MasVnrType        MasVnrType         0.822199\n",
              "MasVnrArea        MasVnrArea         0.787941\n",
              "MSZoning            MSZoning         0.137033\n",
              "Functional        Functional         0.068517\n",
              "Utilities          Utilities         0.068517\n",
              "BsmtHalfBath    BsmtHalfBath         0.068517\n",
              "BsmtFullBath    BsmtFullBath         0.068517\n",
              "GarageArea        GarageArea         0.034258\n",
              "BsmtFinSF1        BsmtFinSF1         0.034258\n",
              "SaleType            SaleType         0.034258\n",
              "GarageCars        GarageCars         0.034258\n",
              "BsmtUnfSF          BsmtUnfSF         0.034258\n",
              "Electrical        Electrical         0.034258\n",
              "Exterior2nd      Exterior2nd         0.034258\n",
              "Exterior1st      Exterior1st         0.034258\n",
              "KitchenQual      KitchenQual         0.034258\n",
              "TotalBsmtSF      TotalBsmtSF         0.034258\n",
              "BsmtFinSF2        BsmtFinSF2         0.034258\n",
              "TotRmsAbvGrd    TotRmsAbvGrd         0.000000\n",
              "Fireplaces        Fireplaces         0.000000\n",
              "Id                        Id         0.000000\n",
              "BedroomAbvGr    BedroomAbvGr         0.000000\n",
              "PavedDrive        PavedDrive         0.000000\n",
              "WoodDeckSF        WoodDeckSF         0.000000\n",
              "OpenPorchSF      OpenPorchSF         0.000000\n",
              "EnclosedPorch  EnclosedPorch         0.000000\n",
              "3SsnPorch          3SsnPorch         0.000000\n",
              "ScreenPorch      ScreenPorch         0.000000\n",
              "PoolArea            PoolArea         0.000000\n",
              "MiscVal              MiscVal         0.000000\n",
              "MoSold                MoSold         0.000000\n",
              "YrSold                YrSold         0.000000\n",
              "SaleCondition  SaleCondition         0.000000\n",
              "KitchenAbvGr    KitchenAbvGr         0.000000\n",
              "HeatingQC          HeatingQC         0.000000\n",
              "HalfBath            HalfBath         0.000000\n",
              "FullBath            FullBath         0.000000\n",
              "LotArea              LotArea         0.000000\n",
              "Street                Street         0.000000\n",
              "LotShape            LotShape         0.000000\n",
              "LandContour      LandContour         0.000000\n",
              "LotConfig          LotConfig         0.000000\n",
              "LandSlope          LandSlope         0.000000\n",
              "Neighborhood    Neighborhood         0.000000\n",
              "Condition1        Condition1         0.000000\n",
              "Condition2        Condition2         0.000000\n",
              "BldgType            BldgType         0.000000\n",
              "HouseStyle        HouseStyle         0.000000\n",
              "OverallQual      OverallQual         0.000000\n",
              "OverallCond      OverallCond         0.000000\n",
              "YearBuilt          YearBuilt         0.000000\n",
              "YearRemodAdd    YearRemodAdd         0.000000\n",
              "RoofStyle          RoofStyle         0.000000\n",
              "RoofMatl            RoofMatl         0.000000\n",
              "ExterQual          ExterQual         0.000000\n",
              "ExterCond          ExterCond         0.000000\n",
              "Foundation        Foundation         0.000000\n",
              "Heating              Heating         0.000000\n",
              "MSSubClass        MSSubClass         0.000000\n",
              "CentralAir        CentralAir         0.000000\n",
              "1stFlrSF            1stFlrSF         0.000000\n",
              "2ndFlrSF            2ndFlrSF         0.000000\n",
              "LowQualFinSF    LowQualFinSF         0.000000\n",
              "GrLivArea          GrLivArea         0.000000\n",
              "SalePrice          SalePrice         0.000000"
            ],
            "text/html": [
              "\n",
              "  <div id=\"df-c9531c90-b7e7-4d68-a4c9-a572d37b4bdb\">\n",
              "    <div class=\"colab-df-container\">\n",
              "      <div>\n",
              "<style scoped>\n",
              "    .dataframe tbody tr th:only-of-type {\n",
              "        vertical-align: middle;\n",
              "    }\n",
              "\n",
              "    .dataframe tbody tr th {\n",
              "        vertical-align: top;\n",
              "    }\n",
              "\n",
              "    .dataframe thead th {\n",
              "        text-align: right;\n",
              "    }\n",
              "</style>\n",
              "<table border=\"1\" class=\"dataframe\">\n",
              "  <thead>\n",
              "    <tr style=\"text-align: right;\">\n",
              "      <th></th>\n",
              "      <th>column_name</th>\n",
              "      <th>percent_missing</th>\n",
              "    </tr>\n",
              "  </thead>\n",
              "  <tbody>\n",
              "    <tr>\n",
              "      <th>PoolQC</th>\n",
              "      <td>PoolQC</td>\n",
              "      <td>99.657417</td>\n",
              "    </tr>\n",
              "    <tr>\n",
              "      <th>MiscFeature</th>\n",
              "      <td>MiscFeature</td>\n",
              "      <td>96.402878</td>\n",
              "    </tr>\n",
              "    <tr>\n",
              "      <th>Alley</th>\n",
              "      <td>Alley</td>\n",
              "      <td>93.216855</td>\n",
              "    </tr>\n",
              "    <tr>\n",
              "      <th>Fence</th>\n",
              "      <td>Fence</td>\n",
              "      <td>80.438506</td>\n",
              "    </tr>\n",
              "    <tr>\n",
              "      <th>FireplaceQu</th>\n",
              "      <td>FireplaceQu</td>\n",
              "      <td>48.646797</td>\n",
              "    </tr>\n",
              "    <tr>\n",
              "      <th>LotFrontage</th>\n",
              "      <td>LotFrontage</td>\n",
              "      <td>16.649538</td>\n",
              "    </tr>\n",
              "    <tr>\n",
              "      <th>GarageFinish</th>\n",
              "      <td>GarageFinish</td>\n",
              "      <td>5.447071</td>\n",
              "    </tr>\n",
              "    <tr>\n",
              "      <th>GarageQual</th>\n",
              "      <td>GarageQual</td>\n",
              "      <td>5.447071</td>\n",
              "    </tr>\n",
              "    <tr>\n",
              "      <th>GarageCond</th>\n",
              "      <td>GarageCond</td>\n",
              "      <td>5.447071</td>\n",
              "    </tr>\n",
              "    <tr>\n",
              "      <th>GarageYrBlt</th>\n",
              "      <td>GarageYrBlt</td>\n",
              "      <td>5.447071</td>\n",
              "    </tr>\n",
              "    <tr>\n",
              "      <th>GarageType</th>\n",
              "      <td>GarageType</td>\n",
              "      <td>5.378554</td>\n",
              "    </tr>\n",
              "    <tr>\n",
              "      <th>BsmtExposure</th>\n",
              "      <td>BsmtExposure</td>\n",
              "      <td>2.809181</td>\n",
              "    </tr>\n",
              "    <tr>\n",
              "      <th>BsmtCond</th>\n",
              "      <td>BsmtCond</td>\n",
              "      <td>2.809181</td>\n",
              "    </tr>\n",
              "    <tr>\n",
              "      <th>BsmtQual</th>\n",
              "      <td>BsmtQual</td>\n",
              "      <td>2.774923</td>\n",
              "    </tr>\n",
              "    <tr>\n",
              "      <th>BsmtFinType2</th>\n",
              "      <td>BsmtFinType2</td>\n",
              "      <td>2.740665</td>\n",
              "    </tr>\n",
              "    <tr>\n",
              "      <th>BsmtFinType1</th>\n",
              "      <td>BsmtFinType1</td>\n",
              "      <td>2.706406</td>\n",
              "    </tr>\n",
              "    <tr>\n",
              "      <th>MasVnrType</th>\n",
              "      <td>MasVnrType</td>\n",
              "      <td>0.822199</td>\n",
              "    </tr>\n",
              "    <tr>\n",
              "      <th>MasVnrArea</th>\n",
              "      <td>MasVnrArea</td>\n",
              "      <td>0.787941</td>\n",
              "    </tr>\n",
              "    <tr>\n",
              "      <th>MSZoning</th>\n",
              "      <td>MSZoning</td>\n",
              "      <td>0.137033</td>\n",
              "    </tr>\n",
              "    <tr>\n",
              "      <th>Functional</th>\n",
              "      <td>Functional</td>\n",
              "      <td>0.068517</td>\n",
              "    </tr>\n",
              "    <tr>\n",
              "      <th>Utilities</th>\n",
              "      <td>Utilities</td>\n",
              "      <td>0.068517</td>\n",
              "    </tr>\n",
              "    <tr>\n",
              "      <th>BsmtHalfBath</th>\n",
              "      <td>BsmtHalfBath</td>\n",
              "      <td>0.068517</td>\n",
              "    </tr>\n",
              "    <tr>\n",
              "      <th>BsmtFullBath</th>\n",
              "      <td>BsmtFullBath</td>\n",
              "      <td>0.068517</td>\n",
              "    </tr>\n",
              "    <tr>\n",
              "      <th>GarageArea</th>\n",
              "      <td>GarageArea</td>\n",
              "      <td>0.034258</td>\n",
              "    </tr>\n",
              "    <tr>\n",
              "      <th>BsmtFinSF1</th>\n",
              "      <td>BsmtFinSF1</td>\n",
              "      <td>0.034258</td>\n",
              "    </tr>\n",
              "    <tr>\n",
              "      <th>SaleType</th>\n",
              "      <td>SaleType</td>\n",
              "      <td>0.034258</td>\n",
              "    </tr>\n",
              "    <tr>\n",
              "      <th>GarageCars</th>\n",
              "      <td>GarageCars</td>\n",
              "      <td>0.034258</td>\n",
              "    </tr>\n",
              "    <tr>\n",
              "      <th>BsmtUnfSF</th>\n",
              "      <td>BsmtUnfSF</td>\n",
              "      <td>0.034258</td>\n",
              "    </tr>\n",
              "    <tr>\n",
              "      <th>Electrical</th>\n",
              "      <td>Electrical</td>\n",
              "      <td>0.034258</td>\n",
              "    </tr>\n",
              "    <tr>\n",
              "      <th>Exterior2nd</th>\n",
              "      <td>Exterior2nd</td>\n",
              "      <td>0.034258</td>\n",
              "    </tr>\n",
              "    <tr>\n",
              "      <th>Exterior1st</th>\n",
              "      <td>Exterior1st</td>\n",
              "      <td>0.034258</td>\n",
              "    </tr>\n",
              "    <tr>\n",
              "      <th>KitchenQual</th>\n",
              "      <td>KitchenQual</td>\n",
              "      <td>0.034258</td>\n",
              "    </tr>\n",
              "    <tr>\n",
              "      <th>TotalBsmtSF</th>\n",
              "      <td>TotalBsmtSF</td>\n",
              "      <td>0.034258</td>\n",
              "    </tr>\n",
              "    <tr>\n",
              "      <th>BsmtFinSF2</th>\n",
              "      <td>BsmtFinSF2</td>\n",
              "      <td>0.034258</td>\n",
              "    </tr>\n",
              "    <tr>\n",
              "      <th>TotRmsAbvGrd</th>\n",
              "      <td>TotRmsAbvGrd</td>\n",
              "      <td>0.000000</td>\n",
              "    </tr>\n",
              "    <tr>\n",
              "      <th>Fireplaces</th>\n",
              "      <td>Fireplaces</td>\n",
              "      <td>0.000000</td>\n",
              "    </tr>\n",
              "    <tr>\n",
              "      <th>Id</th>\n",
              "      <td>Id</td>\n",
              "      <td>0.000000</td>\n",
              "    </tr>\n",
              "    <tr>\n",
              "      <th>BedroomAbvGr</th>\n",
              "      <td>BedroomAbvGr</td>\n",
              "      <td>0.000000</td>\n",
              "    </tr>\n",
              "    <tr>\n",
              "      <th>PavedDrive</th>\n",
              "      <td>PavedDrive</td>\n",
              "      <td>0.000000</td>\n",
              "    </tr>\n",
              "    <tr>\n",
              "      <th>WoodDeckSF</th>\n",
              "      <td>WoodDeckSF</td>\n",
              "      <td>0.000000</td>\n",
              "    </tr>\n",
              "    <tr>\n",
              "      <th>OpenPorchSF</th>\n",
              "      <td>OpenPorchSF</td>\n",
              "      <td>0.000000</td>\n",
              "    </tr>\n",
              "    <tr>\n",
              "      <th>EnclosedPorch</th>\n",
              "      <td>EnclosedPorch</td>\n",
              "      <td>0.000000</td>\n",
              "    </tr>\n",
              "    <tr>\n",
              "      <th>3SsnPorch</th>\n",
              "      <td>3SsnPorch</td>\n",
              "      <td>0.000000</td>\n",
              "    </tr>\n",
              "    <tr>\n",
              "      <th>ScreenPorch</th>\n",
              "      <td>ScreenPorch</td>\n",
              "      <td>0.000000</td>\n",
              "    </tr>\n",
              "    <tr>\n",
              "      <th>PoolArea</th>\n",
              "      <td>PoolArea</td>\n",
              "      <td>0.000000</td>\n",
              "    </tr>\n",
              "    <tr>\n",
              "      <th>MiscVal</th>\n",
              "      <td>MiscVal</td>\n",
              "      <td>0.000000</td>\n",
              "    </tr>\n",
              "    <tr>\n",
              "      <th>MoSold</th>\n",
              "      <td>MoSold</td>\n",
              "      <td>0.000000</td>\n",
              "    </tr>\n",
              "    <tr>\n",
              "      <th>YrSold</th>\n",
              "      <td>YrSold</td>\n",
              "      <td>0.000000</td>\n",
              "    </tr>\n",
              "    <tr>\n",
              "      <th>SaleCondition</th>\n",
              "      <td>SaleCondition</td>\n",
              "      <td>0.000000</td>\n",
              "    </tr>\n",
              "    <tr>\n",
              "      <th>KitchenAbvGr</th>\n",
              "      <td>KitchenAbvGr</td>\n",
              "      <td>0.000000</td>\n",
              "    </tr>\n",
              "    <tr>\n",
              "      <th>HeatingQC</th>\n",
              "      <td>HeatingQC</td>\n",
              "      <td>0.000000</td>\n",
              "    </tr>\n",
              "    <tr>\n",
              "      <th>HalfBath</th>\n",
              "      <td>HalfBath</td>\n",
              "      <td>0.000000</td>\n",
              "    </tr>\n",
              "    <tr>\n",
              "      <th>FullBath</th>\n",
              "      <td>FullBath</td>\n",
              "      <td>0.000000</td>\n",
              "    </tr>\n",
              "    <tr>\n",
              "      <th>LotArea</th>\n",
              "      <td>LotArea</td>\n",
              "      <td>0.000000</td>\n",
              "    </tr>\n",
              "    <tr>\n",
              "      <th>Street</th>\n",
              "      <td>Street</td>\n",
              "      <td>0.000000</td>\n",
              "    </tr>\n",
              "    <tr>\n",
              "      <th>LotShape</th>\n",
              "      <td>LotShape</td>\n",
              "      <td>0.000000</td>\n",
              "    </tr>\n",
              "    <tr>\n",
              "      <th>LandContour</th>\n",
              "      <td>LandContour</td>\n",
              "      <td>0.000000</td>\n",
              "    </tr>\n",
              "    <tr>\n",
              "      <th>LotConfig</th>\n",
              "      <td>LotConfig</td>\n",
              "      <td>0.000000</td>\n",
              "    </tr>\n",
              "    <tr>\n",
              "      <th>LandSlope</th>\n",
              "      <td>LandSlope</td>\n",
              "      <td>0.000000</td>\n",
              "    </tr>\n",
              "    <tr>\n",
              "      <th>Neighborhood</th>\n",
              "      <td>Neighborhood</td>\n",
              "      <td>0.000000</td>\n",
              "    </tr>\n",
              "    <tr>\n",
              "      <th>Condition1</th>\n",
              "      <td>Condition1</td>\n",
              "      <td>0.000000</td>\n",
              "    </tr>\n",
              "    <tr>\n",
              "      <th>Condition2</th>\n",
              "      <td>Condition2</td>\n",
              "      <td>0.000000</td>\n",
              "    </tr>\n",
              "    <tr>\n",
              "      <th>BldgType</th>\n",
              "      <td>BldgType</td>\n",
              "      <td>0.000000</td>\n",
              "    </tr>\n",
              "    <tr>\n",
              "      <th>HouseStyle</th>\n",
              "      <td>HouseStyle</td>\n",
              "      <td>0.000000</td>\n",
              "    </tr>\n",
              "    <tr>\n",
              "      <th>OverallQual</th>\n",
              "      <td>OverallQual</td>\n",
              "      <td>0.000000</td>\n",
              "    </tr>\n",
              "    <tr>\n",
              "      <th>OverallCond</th>\n",
              "      <td>OverallCond</td>\n",
              "      <td>0.000000</td>\n",
              "    </tr>\n",
              "    <tr>\n",
              "      <th>YearBuilt</th>\n",
              "      <td>YearBuilt</td>\n",
              "      <td>0.000000</td>\n",
              "    </tr>\n",
              "    <tr>\n",
              "      <th>YearRemodAdd</th>\n",
              "      <td>YearRemodAdd</td>\n",
              "      <td>0.000000</td>\n",
              "    </tr>\n",
              "    <tr>\n",
              "      <th>RoofStyle</th>\n",
              "      <td>RoofStyle</td>\n",
              "      <td>0.000000</td>\n",
              "    </tr>\n",
              "    <tr>\n",
              "      <th>RoofMatl</th>\n",
              "      <td>RoofMatl</td>\n",
              "      <td>0.000000</td>\n",
              "    </tr>\n",
              "    <tr>\n",
              "      <th>ExterQual</th>\n",
              "      <td>ExterQual</td>\n",
              "      <td>0.000000</td>\n",
              "    </tr>\n",
              "    <tr>\n",
              "      <th>ExterCond</th>\n",
              "      <td>ExterCond</td>\n",
              "      <td>0.000000</td>\n",
              "    </tr>\n",
              "    <tr>\n",
              "      <th>Foundation</th>\n",
              "      <td>Foundation</td>\n",
              "      <td>0.000000</td>\n",
              "    </tr>\n",
              "    <tr>\n",
              "      <th>Heating</th>\n",
              "      <td>Heating</td>\n",
              "      <td>0.000000</td>\n",
              "    </tr>\n",
              "    <tr>\n",
              "      <th>MSSubClass</th>\n",
              "      <td>MSSubClass</td>\n",
              "      <td>0.000000</td>\n",
              "    </tr>\n",
              "    <tr>\n",
              "      <th>CentralAir</th>\n",
              "      <td>CentralAir</td>\n",
              "      <td>0.000000</td>\n",
              "    </tr>\n",
              "    <tr>\n",
              "      <th>1stFlrSF</th>\n",
              "      <td>1stFlrSF</td>\n",
              "      <td>0.000000</td>\n",
              "    </tr>\n",
              "    <tr>\n",
              "      <th>2ndFlrSF</th>\n",
              "      <td>2ndFlrSF</td>\n",
              "      <td>0.000000</td>\n",
              "    </tr>\n",
              "    <tr>\n",
              "      <th>LowQualFinSF</th>\n",
              "      <td>LowQualFinSF</td>\n",
              "      <td>0.000000</td>\n",
              "    </tr>\n",
              "    <tr>\n",
              "      <th>GrLivArea</th>\n",
              "      <td>GrLivArea</td>\n",
              "      <td>0.000000</td>\n",
              "    </tr>\n",
              "    <tr>\n",
              "      <th>SalePrice</th>\n",
              "      <td>SalePrice</td>\n",
              "      <td>0.000000</td>\n",
              "    </tr>\n",
              "  </tbody>\n",
              "</table>\n",
              "</div>\n",
              "      <button class=\"colab-df-convert\" onclick=\"convertToInteractive('df-c9531c90-b7e7-4d68-a4c9-a572d37b4bdb')\"\n",
              "              title=\"Convert this dataframe to an interactive table.\"\n",
              "              style=\"display:none;\">\n",
              "        \n",
              "  <svg xmlns=\"http://www.w3.org/2000/svg\" height=\"24px\"viewBox=\"0 0 24 24\"\n",
              "       width=\"24px\">\n",
              "    <path d=\"M0 0h24v24H0V0z\" fill=\"none\"/>\n",
              "    <path d=\"M18.56 5.44l.94 2.06.94-2.06 2.06-.94-2.06-.94-.94-2.06-.94 2.06-2.06.94zm-11 1L8.5 8.5l.94-2.06 2.06-.94-2.06-.94L8.5 2.5l-.94 2.06-2.06.94zm10 10l.94 2.06.94-2.06 2.06-.94-2.06-.94-.94-2.06-.94 2.06-2.06.94z\"/><path d=\"M17.41 7.96l-1.37-1.37c-.4-.4-.92-.59-1.43-.59-.52 0-1.04.2-1.43.59L10.3 9.45l-7.72 7.72c-.78.78-.78 2.05 0 2.83L4 21.41c.39.39.9.59 1.41.59.51 0 1.02-.2 1.41-.59l7.78-7.78 2.81-2.81c.8-.78.8-2.07 0-2.86zM5.41 20L4 18.59l7.72-7.72 1.47 1.35L5.41 20z\"/>\n",
              "  </svg>\n",
              "      </button>\n",
              "      \n",
              "  <style>\n",
              "    .colab-df-container {\n",
              "      display:flex;\n",
              "      flex-wrap:wrap;\n",
              "      gap: 12px;\n",
              "    }\n",
              "\n",
              "    .colab-df-convert {\n",
              "      background-color: #E8F0FE;\n",
              "      border: none;\n",
              "      border-radius: 50%;\n",
              "      cursor: pointer;\n",
              "      display: none;\n",
              "      fill: #1967D2;\n",
              "      height: 32px;\n",
              "      padding: 0 0 0 0;\n",
              "      width: 32px;\n",
              "    }\n",
              "\n",
              "    .colab-df-convert:hover {\n",
              "      background-color: #E2EBFA;\n",
              "      box-shadow: 0px 1px 2px rgba(60, 64, 67, 0.3), 0px 1px 3px 1px rgba(60, 64, 67, 0.15);\n",
              "      fill: #174EA6;\n",
              "    }\n",
              "\n",
              "    [theme=dark] .colab-df-convert {\n",
              "      background-color: #3B4455;\n",
              "      fill: #D2E3FC;\n",
              "    }\n",
              "\n",
              "    [theme=dark] .colab-df-convert:hover {\n",
              "      background-color: #434B5C;\n",
              "      box-shadow: 0px 1px 3px 1px rgba(0, 0, 0, 0.15);\n",
              "      filter: drop-shadow(0px 1px 2px rgba(0, 0, 0, 0.3));\n",
              "      fill: #FFFFFF;\n",
              "    }\n",
              "  </style>\n",
              "\n",
              "      <script>\n",
              "        const buttonEl =\n",
              "          document.querySelector('#df-c9531c90-b7e7-4d68-a4c9-a572d37b4bdb button.colab-df-convert');\n",
              "        buttonEl.style.display =\n",
              "          google.colab.kernel.accessAllowed ? 'block' : 'none';\n",
              "\n",
              "        async function convertToInteractive(key) {\n",
              "          const element = document.querySelector('#df-c9531c90-b7e7-4d68-a4c9-a572d37b4bdb');\n",
              "          const dataTable =\n",
              "            await google.colab.kernel.invokeFunction('convertToInteractive',\n",
              "                                                     [key], {});\n",
              "          if (!dataTable) return;\n",
              "\n",
              "          const docLinkHtml = 'Like what you see? Visit the ' +\n",
              "            '<a target=\"_blank\" href=https://colab.research.google.com/notebooks/data_table.ipynb>data table notebook</a>'\n",
              "            + ' to learn more about interactive tables.';\n",
              "          element.innerHTML = '';\n",
              "          dataTable['output_type'] = 'display_data';\n",
              "          await google.colab.output.renderOutput(dataTable, element);\n",
              "          const docLink = document.createElement('div');\n",
              "          docLink.innerHTML = docLinkHtml;\n",
              "          element.appendChild(docLink);\n",
              "        }\n",
              "      </script>\n",
              "    </div>\n",
              "  </div>\n",
              "  "
            ]
          },
          "metadata": {},
          "execution_count": 12
        }
      ]
    },
    {
      "cell_type": "code",
      "source": [
        "# Exclusão de colunas com dados acima de 20% faltantes\n",
        "cols = ['MiscFeature', 'PoolQC', 'Fence', 'Alley', 'FireplaceQu']\n",
        "df = df.drop(cols, axis=1)"
      ],
      "metadata": {
        "id": "1WK_PPYoeOkU"
      },
      "execution_count": null,
      "outputs": []
    },
    {
      "cell_type": "code",
      "source": [
        "# Tratando dados faltantes \n",
        "# Fillna substitui dados faltantes por algum valor de interesse. FFill pega o valor a frente e aplica ao registro faltante\n",
        "# backfill oposto do ffill, backfill pega o valor anterior\n",
        "df = df.fillna(method='ffill')"
      ],
      "metadata": {
        "id": "vu0s8cSCfSOF"
      },
      "execution_count": null,
      "outputs": []
    },
    {
      "cell_type": "code",
      "source": [
        "# Checa se todos os dados faltantes foram preenchidos \n",
        "percent_missing = df.isnull().sum() * 100 / len(df) \n",
        "missing_value_df = pd.DataFrame({'column_name': df.columns, \n",
        "                                 'percent_missing': percent_missing})\n",
        "missing_value_df.sort_values(['percent_missing'], ascending=False) "
      ],
      "metadata": {
        "colab": {
          "base_uri": "https://localhost:8080/",
          "height": 1000
        },
        "id": "xfRsOJb3gk9F",
        "outputId": "b8e2662f-15e2-45ec-ac5e-8b905373f13d"
      },
      "execution_count": null,
      "outputs": [
        {
          "output_type": "execute_result",
          "data": {
            "text/plain": [
              "                 column_name  percent_missing\n",
              "Id                        Id              0.0\n",
              "FullBath            FullBath              0.0\n",
              "Fireplaces        Fireplaces              0.0\n",
              "Functional        Functional              0.0\n",
              "TotRmsAbvGrd    TotRmsAbvGrd              0.0\n",
              "KitchenQual      KitchenQual              0.0\n",
              "KitchenAbvGr    KitchenAbvGr              0.0\n",
              "BedroomAbvGr    BedroomAbvGr              0.0\n",
              "HalfBath            HalfBath              0.0\n",
              "BsmtHalfBath    BsmtHalfBath              0.0\n",
              "MSSubClass        MSSubClass              0.0\n",
              "BsmtFullBath    BsmtFullBath              0.0\n",
              "GrLivArea          GrLivArea              0.0\n",
              "LowQualFinSF    LowQualFinSF              0.0\n",
              "2ndFlrSF            2ndFlrSF              0.0\n",
              "1stFlrSF            1stFlrSF              0.0\n",
              "Electrical        Electrical              0.0\n",
              "CentralAir        CentralAir              0.0\n",
              "GarageType        GarageType              0.0\n",
              "GarageYrBlt      GarageYrBlt              0.0\n",
              "GarageFinish    GarageFinish              0.0\n",
              "GarageCars        GarageCars              0.0\n",
              "SaleCondition  SaleCondition              0.0\n",
              "SaleType            SaleType              0.0\n",
              "YrSold                YrSold              0.0\n",
              "MoSold                MoSold              0.0\n",
              "MiscVal              MiscVal              0.0\n",
              "PoolArea            PoolArea              0.0\n",
              "ScreenPorch      ScreenPorch              0.0\n",
              "3SsnPorch          3SsnPorch              0.0\n",
              "EnclosedPorch  EnclosedPorch              0.0\n",
              "OpenPorchSF      OpenPorchSF              0.0\n",
              "WoodDeckSF        WoodDeckSF              0.0\n",
              "PavedDrive        PavedDrive              0.0\n",
              "GarageCond        GarageCond              0.0\n",
              "GarageQual        GarageQual              0.0\n",
              "GarageArea        GarageArea              0.0\n",
              "HeatingQC          HeatingQC              0.0\n",
              "Heating              Heating              0.0\n",
              "TotalBsmtSF      TotalBsmtSF              0.0\n",
              "YearBuilt          YearBuilt              0.0\n",
              "OverallQual      OverallQual              0.0\n",
              "HouseStyle        HouseStyle              0.0\n",
              "BldgType            BldgType              0.0\n",
              "Condition2        Condition2              0.0\n",
              "Condition1        Condition1              0.0\n",
              "Neighborhood    Neighborhood              0.0\n",
              "LandSlope          LandSlope              0.0\n",
              "LotConfig          LotConfig              0.0\n",
              "Utilities          Utilities              0.0\n",
              "LandContour      LandContour              0.0\n",
              "LotShape            LotShape              0.0\n",
              "Street                Street              0.0\n",
              "LotArea              LotArea              0.0\n",
              "LotFrontage      LotFrontage              0.0\n",
              "MSZoning            MSZoning              0.0\n",
              "OverallCond      OverallCond              0.0\n",
              "YearRemodAdd    YearRemodAdd              0.0\n",
              "BsmtUnfSF          BsmtUnfSF              0.0\n",
              "RoofStyle          RoofStyle              0.0\n",
              "BsmtFinSF2        BsmtFinSF2              0.0\n",
              "BsmtFinType2    BsmtFinType2              0.0\n",
              "BsmtFinSF1        BsmtFinSF1              0.0\n",
              "BsmtFinType1    BsmtFinType1              0.0\n",
              "BsmtExposure    BsmtExposure              0.0\n",
              "BsmtCond            BsmtCond              0.0\n",
              "BsmtQual            BsmtQual              0.0\n",
              "Foundation        Foundation              0.0\n",
              "ExterCond          ExterCond              0.0\n",
              "ExterQual          ExterQual              0.0\n",
              "MasVnrArea        MasVnrArea              0.0\n",
              "MasVnrType        MasVnrType              0.0\n",
              "Exterior2nd      Exterior2nd              0.0\n",
              "Exterior1st      Exterior1st              0.0\n",
              "RoofMatl            RoofMatl              0.0\n",
              "SalePrice          SalePrice              0.0"
            ],
            "text/html": [
              "\n",
              "  <div id=\"df-40e48871-9a60-4a51-9c2d-72180e81fa9e\">\n",
              "    <div class=\"colab-df-container\">\n",
              "      <div>\n",
              "<style scoped>\n",
              "    .dataframe tbody tr th:only-of-type {\n",
              "        vertical-align: middle;\n",
              "    }\n",
              "\n",
              "    .dataframe tbody tr th {\n",
              "        vertical-align: top;\n",
              "    }\n",
              "\n",
              "    .dataframe thead th {\n",
              "        text-align: right;\n",
              "    }\n",
              "</style>\n",
              "<table border=\"1\" class=\"dataframe\">\n",
              "  <thead>\n",
              "    <tr style=\"text-align: right;\">\n",
              "      <th></th>\n",
              "      <th>column_name</th>\n",
              "      <th>percent_missing</th>\n",
              "    </tr>\n",
              "  </thead>\n",
              "  <tbody>\n",
              "    <tr>\n",
              "      <th>Id</th>\n",
              "      <td>Id</td>\n",
              "      <td>0.0</td>\n",
              "    </tr>\n",
              "    <tr>\n",
              "      <th>FullBath</th>\n",
              "      <td>FullBath</td>\n",
              "      <td>0.0</td>\n",
              "    </tr>\n",
              "    <tr>\n",
              "      <th>Fireplaces</th>\n",
              "      <td>Fireplaces</td>\n",
              "      <td>0.0</td>\n",
              "    </tr>\n",
              "    <tr>\n",
              "      <th>Functional</th>\n",
              "      <td>Functional</td>\n",
              "      <td>0.0</td>\n",
              "    </tr>\n",
              "    <tr>\n",
              "      <th>TotRmsAbvGrd</th>\n",
              "      <td>TotRmsAbvGrd</td>\n",
              "      <td>0.0</td>\n",
              "    </tr>\n",
              "    <tr>\n",
              "      <th>KitchenQual</th>\n",
              "      <td>KitchenQual</td>\n",
              "      <td>0.0</td>\n",
              "    </tr>\n",
              "    <tr>\n",
              "      <th>KitchenAbvGr</th>\n",
              "      <td>KitchenAbvGr</td>\n",
              "      <td>0.0</td>\n",
              "    </tr>\n",
              "    <tr>\n",
              "      <th>BedroomAbvGr</th>\n",
              "      <td>BedroomAbvGr</td>\n",
              "      <td>0.0</td>\n",
              "    </tr>\n",
              "    <tr>\n",
              "      <th>HalfBath</th>\n",
              "      <td>HalfBath</td>\n",
              "      <td>0.0</td>\n",
              "    </tr>\n",
              "    <tr>\n",
              "      <th>BsmtHalfBath</th>\n",
              "      <td>BsmtHalfBath</td>\n",
              "      <td>0.0</td>\n",
              "    </tr>\n",
              "    <tr>\n",
              "      <th>MSSubClass</th>\n",
              "      <td>MSSubClass</td>\n",
              "      <td>0.0</td>\n",
              "    </tr>\n",
              "    <tr>\n",
              "      <th>BsmtFullBath</th>\n",
              "      <td>BsmtFullBath</td>\n",
              "      <td>0.0</td>\n",
              "    </tr>\n",
              "    <tr>\n",
              "      <th>GrLivArea</th>\n",
              "      <td>GrLivArea</td>\n",
              "      <td>0.0</td>\n",
              "    </tr>\n",
              "    <tr>\n",
              "      <th>LowQualFinSF</th>\n",
              "      <td>LowQualFinSF</td>\n",
              "      <td>0.0</td>\n",
              "    </tr>\n",
              "    <tr>\n",
              "      <th>2ndFlrSF</th>\n",
              "      <td>2ndFlrSF</td>\n",
              "      <td>0.0</td>\n",
              "    </tr>\n",
              "    <tr>\n",
              "      <th>1stFlrSF</th>\n",
              "      <td>1stFlrSF</td>\n",
              "      <td>0.0</td>\n",
              "    </tr>\n",
              "    <tr>\n",
              "      <th>Electrical</th>\n",
              "      <td>Electrical</td>\n",
              "      <td>0.0</td>\n",
              "    </tr>\n",
              "    <tr>\n",
              "      <th>CentralAir</th>\n",
              "      <td>CentralAir</td>\n",
              "      <td>0.0</td>\n",
              "    </tr>\n",
              "    <tr>\n",
              "      <th>GarageType</th>\n",
              "      <td>GarageType</td>\n",
              "      <td>0.0</td>\n",
              "    </tr>\n",
              "    <tr>\n",
              "      <th>GarageYrBlt</th>\n",
              "      <td>GarageYrBlt</td>\n",
              "      <td>0.0</td>\n",
              "    </tr>\n",
              "    <tr>\n",
              "      <th>GarageFinish</th>\n",
              "      <td>GarageFinish</td>\n",
              "      <td>0.0</td>\n",
              "    </tr>\n",
              "    <tr>\n",
              "      <th>GarageCars</th>\n",
              "      <td>GarageCars</td>\n",
              "      <td>0.0</td>\n",
              "    </tr>\n",
              "    <tr>\n",
              "      <th>SaleCondition</th>\n",
              "      <td>SaleCondition</td>\n",
              "      <td>0.0</td>\n",
              "    </tr>\n",
              "    <tr>\n",
              "      <th>SaleType</th>\n",
              "      <td>SaleType</td>\n",
              "      <td>0.0</td>\n",
              "    </tr>\n",
              "    <tr>\n",
              "      <th>YrSold</th>\n",
              "      <td>YrSold</td>\n",
              "      <td>0.0</td>\n",
              "    </tr>\n",
              "    <tr>\n",
              "      <th>MoSold</th>\n",
              "      <td>MoSold</td>\n",
              "      <td>0.0</td>\n",
              "    </tr>\n",
              "    <tr>\n",
              "      <th>MiscVal</th>\n",
              "      <td>MiscVal</td>\n",
              "      <td>0.0</td>\n",
              "    </tr>\n",
              "    <tr>\n",
              "      <th>PoolArea</th>\n",
              "      <td>PoolArea</td>\n",
              "      <td>0.0</td>\n",
              "    </tr>\n",
              "    <tr>\n",
              "      <th>ScreenPorch</th>\n",
              "      <td>ScreenPorch</td>\n",
              "      <td>0.0</td>\n",
              "    </tr>\n",
              "    <tr>\n",
              "      <th>3SsnPorch</th>\n",
              "      <td>3SsnPorch</td>\n",
              "      <td>0.0</td>\n",
              "    </tr>\n",
              "    <tr>\n",
              "      <th>EnclosedPorch</th>\n",
              "      <td>EnclosedPorch</td>\n",
              "      <td>0.0</td>\n",
              "    </tr>\n",
              "    <tr>\n",
              "      <th>OpenPorchSF</th>\n",
              "      <td>OpenPorchSF</td>\n",
              "      <td>0.0</td>\n",
              "    </tr>\n",
              "    <tr>\n",
              "      <th>WoodDeckSF</th>\n",
              "      <td>WoodDeckSF</td>\n",
              "      <td>0.0</td>\n",
              "    </tr>\n",
              "    <tr>\n",
              "      <th>PavedDrive</th>\n",
              "      <td>PavedDrive</td>\n",
              "      <td>0.0</td>\n",
              "    </tr>\n",
              "    <tr>\n",
              "      <th>GarageCond</th>\n",
              "      <td>GarageCond</td>\n",
              "      <td>0.0</td>\n",
              "    </tr>\n",
              "    <tr>\n",
              "      <th>GarageQual</th>\n",
              "      <td>GarageQual</td>\n",
              "      <td>0.0</td>\n",
              "    </tr>\n",
              "    <tr>\n",
              "      <th>GarageArea</th>\n",
              "      <td>GarageArea</td>\n",
              "      <td>0.0</td>\n",
              "    </tr>\n",
              "    <tr>\n",
              "      <th>HeatingQC</th>\n",
              "      <td>HeatingQC</td>\n",
              "      <td>0.0</td>\n",
              "    </tr>\n",
              "    <tr>\n",
              "      <th>Heating</th>\n",
              "      <td>Heating</td>\n",
              "      <td>0.0</td>\n",
              "    </tr>\n",
              "    <tr>\n",
              "      <th>TotalBsmtSF</th>\n",
              "      <td>TotalBsmtSF</td>\n",
              "      <td>0.0</td>\n",
              "    </tr>\n",
              "    <tr>\n",
              "      <th>YearBuilt</th>\n",
              "      <td>YearBuilt</td>\n",
              "      <td>0.0</td>\n",
              "    </tr>\n",
              "    <tr>\n",
              "      <th>OverallQual</th>\n",
              "      <td>OverallQual</td>\n",
              "      <td>0.0</td>\n",
              "    </tr>\n",
              "    <tr>\n",
              "      <th>HouseStyle</th>\n",
              "      <td>HouseStyle</td>\n",
              "      <td>0.0</td>\n",
              "    </tr>\n",
              "    <tr>\n",
              "      <th>BldgType</th>\n",
              "      <td>BldgType</td>\n",
              "      <td>0.0</td>\n",
              "    </tr>\n",
              "    <tr>\n",
              "      <th>Condition2</th>\n",
              "      <td>Condition2</td>\n",
              "      <td>0.0</td>\n",
              "    </tr>\n",
              "    <tr>\n",
              "      <th>Condition1</th>\n",
              "      <td>Condition1</td>\n",
              "      <td>0.0</td>\n",
              "    </tr>\n",
              "    <tr>\n",
              "      <th>Neighborhood</th>\n",
              "      <td>Neighborhood</td>\n",
              "      <td>0.0</td>\n",
              "    </tr>\n",
              "    <tr>\n",
              "      <th>LandSlope</th>\n",
              "      <td>LandSlope</td>\n",
              "      <td>0.0</td>\n",
              "    </tr>\n",
              "    <tr>\n",
              "      <th>LotConfig</th>\n",
              "      <td>LotConfig</td>\n",
              "      <td>0.0</td>\n",
              "    </tr>\n",
              "    <tr>\n",
              "      <th>Utilities</th>\n",
              "      <td>Utilities</td>\n",
              "      <td>0.0</td>\n",
              "    </tr>\n",
              "    <tr>\n",
              "      <th>LandContour</th>\n",
              "      <td>LandContour</td>\n",
              "      <td>0.0</td>\n",
              "    </tr>\n",
              "    <tr>\n",
              "      <th>LotShape</th>\n",
              "      <td>LotShape</td>\n",
              "      <td>0.0</td>\n",
              "    </tr>\n",
              "    <tr>\n",
              "      <th>Street</th>\n",
              "      <td>Street</td>\n",
              "      <td>0.0</td>\n",
              "    </tr>\n",
              "    <tr>\n",
              "      <th>LotArea</th>\n",
              "      <td>LotArea</td>\n",
              "      <td>0.0</td>\n",
              "    </tr>\n",
              "    <tr>\n",
              "      <th>LotFrontage</th>\n",
              "      <td>LotFrontage</td>\n",
              "      <td>0.0</td>\n",
              "    </tr>\n",
              "    <tr>\n",
              "      <th>MSZoning</th>\n",
              "      <td>MSZoning</td>\n",
              "      <td>0.0</td>\n",
              "    </tr>\n",
              "    <tr>\n",
              "      <th>OverallCond</th>\n",
              "      <td>OverallCond</td>\n",
              "      <td>0.0</td>\n",
              "    </tr>\n",
              "    <tr>\n",
              "      <th>YearRemodAdd</th>\n",
              "      <td>YearRemodAdd</td>\n",
              "      <td>0.0</td>\n",
              "    </tr>\n",
              "    <tr>\n",
              "      <th>BsmtUnfSF</th>\n",
              "      <td>BsmtUnfSF</td>\n",
              "      <td>0.0</td>\n",
              "    </tr>\n",
              "    <tr>\n",
              "      <th>RoofStyle</th>\n",
              "      <td>RoofStyle</td>\n",
              "      <td>0.0</td>\n",
              "    </tr>\n",
              "    <tr>\n",
              "      <th>BsmtFinSF2</th>\n",
              "      <td>BsmtFinSF2</td>\n",
              "      <td>0.0</td>\n",
              "    </tr>\n",
              "    <tr>\n",
              "      <th>BsmtFinType2</th>\n",
              "      <td>BsmtFinType2</td>\n",
              "      <td>0.0</td>\n",
              "    </tr>\n",
              "    <tr>\n",
              "      <th>BsmtFinSF1</th>\n",
              "      <td>BsmtFinSF1</td>\n",
              "      <td>0.0</td>\n",
              "    </tr>\n",
              "    <tr>\n",
              "      <th>BsmtFinType1</th>\n",
              "      <td>BsmtFinType1</td>\n",
              "      <td>0.0</td>\n",
              "    </tr>\n",
              "    <tr>\n",
              "      <th>BsmtExposure</th>\n",
              "      <td>BsmtExposure</td>\n",
              "      <td>0.0</td>\n",
              "    </tr>\n",
              "    <tr>\n",
              "      <th>BsmtCond</th>\n",
              "      <td>BsmtCond</td>\n",
              "      <td>0.0</td>\n",
              "    </tr>\n",
              "    <tr>\n",
              "      <th>BsmtQual</th>\n",
              "      <td>BsmtQual</td>\n",
              "      <td>0.0</td>\n",
              "    </tr>\n",
              "    <tr>\n",
              "      <th>Foundation</th>\n",
              "      <td>Foundation</td>\n",
              "      <td>0.0</td>\n",
              "    </tr>\n",
              "    <tr>\n",
              "      <th>ExterCond</th>\n",
              "      <td>ExterCond</td>\n",
              "      <td>0.0</td>\n",
              "    </tr>\n",
              "    <tr>\n",
              "      <th>ExterQual</th>\n",
              "      <td>ExterQual</td>\n",
              "      <td>0.0</td>\n",
              "    </tr>\n",
              "    <tr>\n",
              "      <th>MasVnrArea</th>\n",
              "      <td>MasVnrArea</td>\n",
              "      <td>0.0</td>\n",
              "    </tr>\n",
              "    <tr>\n",
              "      <th>MasVnrType</th>\n",
              "      <td>MasVnrType</td>\n",
              "      <td>0.0</td>\n",
              "    </tr>\n",
              "    <tr>\n",
              "      <th>Exterior2nd</th>\n",
              "      <td>Exterior2nd</td>\n",
              "      <td>0.0</td>\n",
              "    </tr>\n",
              "    <tr>\n",
              "      <th>Exterior1st</th>\n",
              "      <td>Exterior1st</td>\n",
              "      <td>0.0</td>\n",
              "    </tr>\n",
              "    <tr>\n",
              "      <th>RoofMatl</th>\n",
              "      <td>RoofMatl</td>\n",
              "      <td>0.0</td>\n",
              "    </tr>\n",
              "    <tr>\n",
              "      <th>SalePrice</th>\n",
              "      <td>SalePrice</td>\n",
              "      <td>0.0</td>\n",
              "    </tr>\n",
              "  </tbody>\n",
              "</table>\n",
              "</div>\n",
              "      <button class=\"colab-df-convert\" onclick=\"convertToInteractive('df-40e48871-9a60-4a51-9c2d-72180e81fa9e')\"\n",
              "              title=\"Convert this dataframe to an interactive table.\"\n",
              "              style=\"display:none;\">\n",
              "        \n",
              "  <svg xmlns=\"http://www.w3.org/2000/svg\" height=\"24px\"viewBox=\"0 0 24 24\"\n",
              "       width=\"24px\">\n",
              "    <path d=\"M0 0h24v24H0V0z\" fill=\"none\"/>\n",
              "    <path d=\"M18.56 5.44l.94 2.06.94-2.06 2.06-.94-2.06-.94-.94-2.06-.94 2.06-2.06.94zm-11 1L8.5 8.5l.94-2.06 2.06-.94-2.06-.94L8.5 2.5l-.94 2.06-2.06.94zm10 10l.94 2.06.94-2.06 2.06-.94-2.06-.94-.94-2.06-.94 2.06-2.06.94z\"/><path d=\"M17.41 7.96l-1.37-1.37c-.4-.4-.92-.59-1.43-.59-.52 0-1.04.2-1.43.59L10.3 9.45l-7.72 7.72c-.78.78-.78 2.05 0 2.83L4 21.41c.39.39.9.59 1.41.59.51 0 1.02-.2 1.41-.59l7.78-7.78 2.81-2.81c.8-.78.8-2.07 0-2.86zM5.41 20L4 18.59l7.72-7.72 1.47 1.35L5.41 20z\"/>\n",
              "  </svg>\n",
              "      </button>\n",
              "      \n",
              "  <style>\n",
              "    .colab-df-container {\n",
              "      display:flex;\n",
              "      flex-wrap:wrap;\n",
              "      gap: 12px;\n",
              "    }\n",
              "\n",
              "    .colab-df-convert {\n",
              "      background-color: #E8F0FE;\n",
              "      border: none;\n",
              "      border-radius: 50%;\n",
              "      cursor: pointer;\n",
              "      display: none;\n",
              "      fill: #1967D2;\n",
              "      height: 32px;\n",
              "      padding: 0 0 0 0;\n",
              "      width: 32px;\n",
              "    }\n",
              "\n",
              "    .colab-df-convert:hover {\n",
              "      background-color: #E2EBFA;\n",
              "      box-shadow: 0px 1px 2px rgba(60, 64, 67, 0.3), 0px 1px 3px 1px rgba(60, 64, 67, 0.15);\n",
              "      fill: #174EA6;\n",
              "    }\n",
              "\n",
              "    [theme=dark] .colab-df-convert {\n",
              "      background-color: #3B4455;\n",
              "      fill: #D2E3FC;\n",
              "    }\n",
              "\n",
              "    [theme=dark] .colab-df-convert:hover {\n",
              "      background-color: #434B5C;\n",
              "      box-shadow: 0px 1px 3px 1px rgba(0, 0, 0, 0.15);\n",
              "      filter: drop-shadow(0px 1px 2px rgba(0, 0, 0, 0.3));\n",
              "      fill: #FFFFFF;\n",
              "    }\n",
              "  </style>\n",
              "\n",
              "      <script>\n",
              "        const buttonEl =\n",
              "          document.querySelector('#df-40e48871-9a60-4a51-9c2d-72180e81fa9e button.colab-df-convert');\n",
              "        buttonEl.style.display =\n",
              "          google.colab.kernel.accessAllowed ? 'block' : 'none';\n",
              "\n",
              "        async function convertToInteractive(key) {\n",
              "          const element = document.querySelector('#df-40e48871-9a60-4a51-9c2d-72180e81fa9e');\n",
              "          const dataTable =\n",
              "            await google.colab.kernel.invokeFunction('convertToInteractive',\n",
              "                                                     [key], {});\n",
              "          if (!dataTable) return;\n",
              "\n",
              "          const docLinkHtml = 'Like what you see? Visit the ' +\n",
              "            '<a target=\"_blank\" href=https://colab.research.google.com/notebooks/data_table.ipynb>data table notebook</a>'\n",
              "            + ' to learn more about interactive tables.';\n",
              "          element.innerHTML = '';\n",
              "          dataTable['output_type'] = 'display_data';\n",
              "          await google.colab.output.renderOutput(dataTable, element);\n",
              "          const docLink = document.createElement('div');\n",
              "          docLink.innerHTML = docLinkHtml;\n",
              "          element.appendChild(docLink);\n",
              "        }\n",
              "      </script>\n",
              "    </div>\n",
              "  </div>\n",
              "  "
            ]
          },
          "metadata": {},
          "execution_count": 16
        }
      ]
    },
    {
      "cell_type": "code",
      "source": [
        "# Feature Engineering \n",
        "\n",
        "df['IdadeCasa'] = 2022 - df['YearBuilt']                        # Cria variável idade da casa (ano atual - ano de construção)\n",
        "df['TempoAteVenda'] = df['YearBuilt'] - df['YrSold']            # Cria variável de tempo de venda (ano da construção - ano de venda )\n",
        "df['TempoAteReforma'] = df['YearBuilt'] - df['YearRemodAdd']    # Cria variável tempo até a reforma (ano de construção - ano de reforma)\n",
        "df['TempoDaReforma'] = 2022 - df['YearRemodAdd']                # Cria variavel tempo da reforma (ano atual - ano da reforma) \n",
        "df['IdadeGarage'] = 2022 - df['GarageYrBlt']                    # Cria variavel idade da garagem (ano atual - ano de construção da garagem) "
      ],
      "metadata": {
        "id": "mLF97SN1gqYB"
      },
      "execution_count": null,
      "outputs": []
    },
    {
      "cell_type": "code",
      "source": [
        "# Transforma variáveis Dummies \n",
        "df1 = pd.get_dummies(df, columns=\n",
        "                     ['LotConfig',\n",
        "                     'HouseStyle',\n",
        "                     'Foundation',\n",
        "                     'Electrical',\n",
        "                     'MSZoning',\n",
        "                     'SaleType',\n",
        "                     'GarageType',\n",
        "                     'LotShape',\n",
        "                     'ExterCond',\n",
        "                     'Foundation',\n",
        "                     'BsmtExposure',\n",
        "                     'Functional',\n",
        "                     'SaleCondition',\n",
        "                     'Street',\n",
        "                     'LandContour',\n",
        "                     'LandSlope',\n",
        "                     'BldgType',\n",
        "                     'Heating',\n",
        "                     'PavedDrive'], drop_first=False)\n",
        "df1.shape"
      ],
      "metadata": {
        "colab": {
          "base_uri": "https://localhost:8080/"
        },
        "id": "QoV-inGPhUIQ",
        "outputId": "ddd35c99-9c6b-4280-f46c-cd7f08e698b4"
      },
      "execution_count": null,
      "outputs": [
        {
          "output_type": "execute_result",
          "data": {
            "text/plain": [
              "(2919, 162)"
            ]
          },
          "metadata": {},
          "execution_count": 23
        }
      ]
    },
    {
      "cell_type": "code",
      "source": [
        "# Lista as variáveis do tipo objeto para transformação em binária com Label Encoder\n",
        "objlist = df1.select_dtypes(include='object').columns\n",
        "print(objlist)"
      ],
      "metadata": {
        "colab": {
          "base_uri": "https://localhost:8080/"
        },
        "id": "LAUpSUJihWFR",
        "outputId": "8b9af849-b590-449d-bc35-ee0a71090d75"
      },
      "execution_count": null,
      "outputs": [
        {
          "output_type": "stream",
          "name": "stdout",
          "text": [
            "Index(['Utilities', 'Neighborhood', 'Condition1', 'Condition2', 'RoofStyle',\n",
            "       'RoofMatl', 'Exterior1st', 'Exterior2nd', 'MasVnrType', 'ExterQual',\n",
            "       'BsmtQual', 'BsmtCond', 'BsmtFinType1', 'BsmtFinType2', 'HeatingQC',\n",
            "       'CentralAir', 'KitchenQual', 'GarageFinish', 'GarageQual',\n",
            "       'GarageCond'],\n",
            "      dtype='object')\n"
          ]
        }
      ]
    },
    {
      "cell_type": "code",
      "source": [
        "# Transforma as variáveis objeto em binárias com LE\n",
        "le = LabelEncoder()\n",
        "for var in objlist:\n",
        "  df1[var] = le.fit_transform(df1[var].astype(str))"
      ],
      "metadata": {
        "id": "7mMZO75jkVmr"
      },
      "execution_count": null,
      "outputs": []
    },
    {
      "cell_type": "code",
      "source": [
        "df1.shape"
      ],
      "metadata": {
        "colab": {
          "base_uri": "https://localhost:8080/"
        },
        "id": "lX1SXIQ6krKI",
        "outputId": "0c2b0c0a-b388-4ee7-d2ce-f20b0c204f94"
      },
      "execution_count": null,
      "outputs": [
        {
          "output_type": "execute_result",
          "data": {
            "text/plain": [
              "(2919, 162)"
            ]
          },
          "metadata": {},
          "execution_count": 30
        }
      ]
    },
    {
      "cell_type": "code",
      "source": [
        "# Separação em treino e teste\n",
        "\n",
        "train = df1[df1['SalePrice'] != 0]\n",
        "test = df1[df1['SalePrice'] == 0]\n",
        "\n",
        "test.drop('SalePrice', axis=1, inplace=True)\n",
        "train.shape, test.shape"
      ],
      "metadata": {
        "colab": {
          "base_uri": "https://localhost:8080/"
        },
        "id": "RDu0kjaQks0B",
        "outputId": "a47966ea-6c5d-4271-c86f-a4da351a702f"
      },
      "execution_count": null,
      "outputs": [
        {
          "output_type": "execute_result",
          "data": {
            "text/plain": [
              "((1460, 162), (1459, 161))"
            ]
          },
          "metadata": {},
          "execution_count": 33
        }
      ]
    },
    {
      "cell_type": "code",
      "source": [
        "X = train.drop('SalePrice', axis=1)\n",
        "y = train['SalePrice']\n",
        "\n",
        "X_train, X_test, y_train, y_test = train_test_split(X, y, test_size=0.2, random_state=123)"
      ],
      "metadata": {
        "id": "DOoHS2NrlWgB"
      },
      "execution_count": null,
      "outputs": []
    },
    {
      "cell_type": "code",
      "source": [
        "# baixa os algoritmos \n",
        "from sklearn.ensemble import RandomForestRegressor, GradientBoostingRegressor, AdaBoostRegressor\n",
        "from lightgbm import LGBMRegressor"
      ],
      "metadata": {
        "id": "Mbxx6cmGlx-2"
      },
      "execution_count": null,
      "outputs": []
    },
    {
      "cell_type": "markdown",
      "source": [
        "#### Random Forest"
      ],
      "metadata": {
        "id": "lV3R6-chnS-E"
      }
    },
    {
      "cell_type": "code",
      "source": [
        "rf_regressor = RandomForestRegressor(n_estimators=100,  # Numero de árvores, padrão 100\n",
        "                                    criterion='squared_error', # Função que mede a qualidade da separação dos nós das arvores, padrão 'friedman_mse'\n",
        "                                    max_depth=None, # Profundidae máxima da árvore, padrão None\n",
        "                                    min_samples_split=2, # Numero minimo de separação de um nó interno, padrão 2\n",
        "                                    min_samples_leaf=1, # Numero minimo de separação de um nó folha, padrão 1, ajuda a suavizar o modelo.\n",
        "                                    min_weight_fraction_leaf=0.0, # A fração ponderada mínima da soma total de pesos (de todas as amostras de entrada) necessária para estar em um nó folha. As amostras têm peso igual quando sample_weight não é fornecido.\n",
        "                                    max_features='auto', # O número de recursos a serem considerados ao procurar a melhor divisão:\n",
        "                                    max_leaf_nodes=None, # Define limite de crescimento das arvores, default None\n",
        "                                    min_impurity_decrease=0.0, # Um nó será dividido se esta divisão induzir uma diminuição da impureza maior ou igual a este valor.\n",
        "                                    bootstrap=True, \n",
        "                                    oob_score=False, \n",
        "                                    n_jobs=None, # Número de threads paralelos a serem usados ​​para treinamento (pode ser alterado no momento da previsão).\n",
        "                                    random_state=None, # Semente de número aleatório para reprodução\n",
        "                                    verbose=0, # Habilita saida do modelo durante treinamento\n",
        "                                    warm_start=False, # Inicia o treinamento com os pesos já existentes da arvores anterior, caso contrário comece do zero.\n",
        "                                    ccp_alpha=0.0, \n",
        "                                    max_samples=None)  "
      ],
      "metadata": {
        "id": "STjx7Xxbmei9"
      },
      "execution_count": null,
      "outputs": []
    },
    {
      "cell_type": "code",
      "source": [
        "rf_regressor.fit(X_train, y_train)"
      ],
      "metadata": {
        "colab": {
          "base_uri": "https://localhost:8080/"
        },
        "id": "1xrw_Z5emmQu",
        "outputId": "575383e4-53ef-427e-cd0e-96dd77100b03"
      },
      "execution_count": null,
      "outputs": [
        {
          "output_type": "execute_result",
          "data": {
            "text/plain": [
              "RandomForestRegressor()"
            ]
          },
          "metadata": {},
          "execution_count": 37
        }
      ]
    },
    {
      "cell_type": "code",
      "source": [
        "y_pred = rf_regressor.predict(X_test)"
      ],
      "metadata": {
        "id": "u8R7448tmsKI"
      },
      "execution_count": null,
      "outputs": []
    },
    {
      "cell_type": "code",
      "source": [
        "def metrics(y_test, y_pred):\n",
        "    mae = mean_absolute_error(y_test, y_pred)\n",
        "    mse = mean_squared_error(y_test, y_pred)\n",
        "    rmse = np.sqrt(mse)\n",
        "    r2 = r2_score(y_test, y_pred)\n",
        "    return mae, mse, rmse, r2"
      ],
      "metadata": {
        "id": "9T2b3babmyyb"
      },
      "execution_count": null,
      "outputs": []
    },
    {
      "cell_type": "code",
      "source": [
        "metrics(y_test, y_pred)"
      ],
      "metadata": {
        "colab": {
          "base_uri": "https://localhost:8080/"
        },
        "id": "fZVyKdZem2ig",
        "outputId": "08eeeb7e-cacd-4b46-b02e-ed8c412b4d65"
      },
      "execution_count": null,
      "outputs": [
        {
          "output_type": "execute_result",
          "data": {
            "text/plain": [
              "(17155.054212328767, 744227624.1584736, 27280.535628144724, 0.8795673151240536)"
            ]
          },
          "metadata": {},
          "execution_count": 40
        }
      ]
    },
    {
      "cell_type": "markdown",
      "source": [
        "#### Gradient Boosting"
      ],
      "metadata": {
        "id": "fhx6om5GnWxZ"
      }
    },
    {
      "cell_type": "code",
      "source": [
        "gd_regressor = GradientBoostingRegressor( loss='squared_error', # Função de custo, ou seja, o que vai ser minimizado\n",
        "                                        learning_rate=0.1, # Taxa de aprendizado, padrão 0.1\n",
        "                                        n_estimators=100, # Numero de árvores, padrão 100\n",
        "                                        subsample=1.0, # Fração de amostras usadas para treinamento das árvores, padrão 1.0\n",
        "                                        criterion='friedman_mse',  # Função que mede a qualidade da separação dos nós das arvores, padrão 'friedman_mse'\n",
        "                                        min_samples_split=2, # Numero minimo de separação de um nó interno, padrão 2\n",
        "                                        min_samples_leaf=1, # Numero minimo de separação de um nó folha, padrão 1, ajuda a suavizar o modelo.\n",
        "                                        min_weight_fraction_leaf=0.0, # A fração ponderada mínima da soma total de pesos (de todas as amostras de entrada) necessária para estar em um nó folha. As amostras têm peso igual quando sample_weight não é fornecido.\n",
        "                                        max_depth=3, # Profundidade máxima dos estimadores de regressão individuais. A profundidade máxima limita o número de nós na árvore. Ajuste este parâmetro para melhor desempenho; o melhor valor depende da interação das variáveis de entrada.\n",
        "                                        min_impurity_decrease=0.0, # Um nó será dividido se esta divisão induzir uma diminuição da impureza maior ou igual a este valor.\n",
        "                                        random_state=None, # Semente de número aleatório para reprodução\n",
        "                                        max_features=None, # O número de recursos a serem considerados ao procurar a melhor divisão:\n",
        "                                        verbose=0, # Habilita saida do modelo durante treinamento\n",
        "                                        max_leaf_nodes=None, # Define limite de crescimento das arvores, default None\n",
        "                                        warm_start=False, # Inicia o treinamento com os pesos já existentes da arvores anterior, caso contrário comece do zero.\n",
        "                                        validation_fraction=0.1, # Proporção de dados de treinamento a ser destinado a validação\n",
        "                                        n_iter_no_change=None, # Número de iterações sem melhora para parar o treinamento\n",
        "                                        tol=0.0001, # Tolerância para parar o treinamento\n",
        "                                        ccp_alpha=0.0) # Valor de regularização para o critério de parada"
      ],
      "metadata": {
        "id": "LYRpMEibnCnu"
      },
      "execution_count": null,
      "outputs": []
    },
    {
      "cell_type": "code",
      "source": [
        "gd_regressor.fit(X_train, y_train)"
      ],
      "metadata": {
        "colab": {
          "base_uri": "https://localhost:8080/"
        },
        "id": "7hYVlcXXnZXT",
        "outputId": "3b50c55a-df51-49f3-c0ff-fd9b7fc0e1e4"
      },
      "execution_count": null,
      "outputs": [
        {
          "output_type": "execute_result",
          "data": {
            "text/plain": [
              "GradientBoostingRegressor()"
            ]
          },
          "metadata": {},
          "execution_count": 42
        }
      ]
    },
    {
      "cell_type": "code",
      "source": [
        "y_pred = gd_regressor.predict(X_test)"
      ],
      "metadata": {
        "id": "ot-Ak-YKne6E"
      },
      "execution_count": null,
      "outputs": []
    },
    {
      "cell_type": "code",
      "source": [
        "metrics(y_test, y_pred)"
      ],
      "metadata": {
        "colab": {
          "base_uri": "https://localhost:8080/"
        },
        "id": "5EaEMq8nnmDH",
        "outputId": "fe81c579-e0e7-49d9-cfca-80c03ed9c64d"
      },
      "execution_count": null,
      "outputs": [
        {
          "output_type": "execute_result",
          "data": {
            "text/plain": [
              "(15408.065078254907, 586880478.5156655, 24225.616163797888, 0.9050296046067332)"
            ]
          },
          "metadata": {},
          "execution_count": 45
        }
      ]
    },
    {
      "cell_type": "markdown",
      "source": [
        "#### AdaBoosting"
      ],
      "metadata": {
        "id": "gW5YWWsJnvW8"
      }
    },
    {
      "cell_type": "code",
      "source": [
        "ada_regressor = AdaBoostRegressor(base_estimator=None,\n",
        "                                 n_estimators=100, # Numero de árvores, padrão 100\n",
        "                                 learning_rate=0.1, # Taxa de aprendizado, padrão 0.1\n",
        "                                 loss='linear', # Função de custo, padrão linear\n",
        "                                 random_state=None) # Semente de número aleatório para reprodução"
      ],
      "metadata": {
        "id": "Ov6Cc46cnpkL"
      },
      "execution_count": null,
      "outputs": []
    },
    {
      "cell_type": "code",
      "source": [
        "ada_regressor.fit(X_train, y_train)"
      ],
      "metadata": {
        "colab": {
          "base_uri": "https://localhost:8080/"
        },
        "id": "jGPiVsAln0vC",
        "outputId": "524b6a66-4a8e-4526-e409-8546008f9ca5"
      },
      "execution_count": null,
      "outputs": [
        {
          "output_type": "execute_result",
          "data": {
            "text/plain": [
              "AdaBoostRegressor(learning_rate=0.1, n_estimators=100)"
            ]
          },
          "metadata": {},
          "execution_count": 52
        }
      ]
    },
    {
      "cell_type": "code",
      "source": [
        "y_pred = ada_regressor.predict(X_test)"
      ],
      "metadata": {
        "id": "ITOYpCq7n52C"
      },
      "execution_count": null,
      "outputs": []
    },
    {
      "cell_type": "code",
      "source": [
        "metrics(y_test, y_pred)"
      ],
      "metadata": {
        "colab": {
          "base_uri": "https://localhost:8080/"
        },
        "id": "CO4QH3Gmn-ib",
        "outputId": "125e13df-e77b-4b98-8df9-3f638cf5dd3f"
      },
      "execution_count": null,
      "outputs": [
        {
          "output_type": "execute_result",
          "data": {
            "text/plain": [
              "(24704.076497701397, 1392397910.0319307, 37314.848385487654, 0.774678857277818)"
            ]
          },
          "metadata": {},
          "execution_count": 54
        }
      ]
    },
    {
      "cell_type": "markdown",
      "source": [
        "#### LightGBM"
      ],
      "metadata": {
        "id": "a06nK5A-oHcE"
      }
    },
    {
      "cell_type": "code",
      "source": [
        "lgbm_regressor = LGBMRegressor(boosting_type='gbdt',  # Gradient Boosting Decision, dart, goss ou rf\n",
        "                                    num_leaves=31, # Maximo de nós folha da árvore, padrão 31\n",
        "                                    max_depth=- 1, # Profundidae máxima da árvore, padrão -1\n",
        "                                    learning_rate=0.1, # Taxa de aprendizado, padrão 0.1\n",
        "                                    n_estimators=100, # Numero de árvores, padrão 100\n",
        "                                    subsample_for_bin=200000, # numero de amostras para cada nó folha, padrão 200000\n",
        "                                    objective='regression', # Função objetivo, padrão None, neste caso usaremos regressor\n",
        "                                    class_weight=None, # Usado para classificação, atribui peso as classes. Muito útil em casos de classificação e classes desbalanceadas\n",
        "                                    min_split_gain=0.0, # Redução de perda mínima necessária para fazer uma partição adicional em um nó folha da árvore.\n",
        "                                    min_child_weight=0.001, # Soma mínima do peso da instância (Hessian) necessária em um filho (folha).\n",
        "                                    min_child_samples=20, # Número mínimo de dados necessários em um filho (folha).\n",
        "                                    subsample=1.0, # proporção de subamostra da instância de treinamento.\n",
        "                                    subsample_freq=0, # Frequência da subamostra, <=0 significa que não há habilitação.\n",
        "                                    colsample_bytree=1.0, # Proporção de subamostra de colunas ao construir cada árvore.\n",
        "                                    reg_alpha=0.0,  # Termo de regularização L1 em ​​pesos.\n",
        "                                    reg_lambda=0.0, # Termo de regularização L2 em pesos.\n",
        "                                    random_state=None, # Semente de número aleatório para reprodução\n",
        "                                    n_jobs=- 1, # Número de threads paralelos a serem usados ​​para treinamento (pode ser alterado no momento da previsão).\n",
        "                                    importance_type='split', # O tipo de importância do recurso a ser preenchido em feature_importances_. Se 'dividido', o resultado contém o número de vezes que o recurso é usado em um modelo. Se 'ganho', o resultado contém ganhos totais de divisões que usam o recurso.\n",
        "                                    ) "
      ],
      "metadata": {
        "id": "0_c0irm8oBaL"
      },
      "execution_count": null,
      "outputs": []
    },
    {
      "cell_type": "code",
      "source": [
        "lgbm_regressor.fit(X_train, y_train)"
      ],
      "metadata": {
        "colab": {
          "base_uri": "https://localhost:8080/"
        },
        "id": "c9RGpfYholKD",
        "outputId": "415801e8-395c-494e-cdc0-76879ce6f6d2"
      },
      "execution_count": null,
      "outputs": [
        {
          "output_type": "execute_result",
          "data": {
            "text/plain": [
              "LGBMRegressor(objective='regression')"
            ]
          },
          "metadata": {},
          "execution_count": 56
        }
      ]
    },
    {
      "cell_type": "code",
      "source": [
        "y_pred = lgbm_regressor.predict(X_test)"
      ],
      "metadata": {
        "id": "c9179KZVouRH"
      },
      "execution_count": null,
      "outputs": []
    },
    {
      "cell_type": "code",
      "source": [
        "metrics(y_test, y_pred)"
      ],
      "metadata": {
        "colab": {
          "base_uri": "https://localhost:8080/"
        },
        "id": "as4TsgjNpA0b",
        "outputId": "c397f4f0-ccea-4d9c-c371-89185fcd412b"
      },
      "execution_count": null,
      "outputs": [
        {
          "output_type": "execute_result",
          "data": {
            "text/plain": [
              "(16679.192688156945, 721953991.5053582, 26869.201542013827, 0.8831716873554505)"
            ]
          },
          "metadata": {},
          "execution_count": 58
        }
      ]
    },
    {
      "cell_type": "markdown",
      "source": [
        "#### Tuning de hiperparametros com Random Search "
      ],
      "metadata": {
        "id": "p3P9oIIdpOFf"
      }
    },
    {
      "cell_type": "code",
      "source": [
        "n_estimators = [100, 150, 200, 250, 350, 400]\n",
        "min_samples_split = [2, 6, 10]\n",
        "min_samples_leaf = [2, 4, 6, 8]\n",
        "max_features = ['auto', 'sqrt', 'log2', None]\n",
        "\n",
        "parametros = {\n",
        "    'n_estimators':n_estimators,\n",
        "    'min_samples_split':min_samples_split,\n",
        "    'min_samples_leaf':min_samples_leaf,\n",
        "    'max_features':max_features\n",
        "}"
      ],
      "metadata": {
        "id": "dEO_39FypFki"
      },
      "execution_count": null,
      "outputs": []
    },
    {
      "cell_type": "code",
      "source": [
        "gb_tuned = RandomizedSearchCV(estimator=GradientBoostingRegressor(random_state=37), \n",
        "                              param_distributions=parametros, \n",
        "                              cv=5, \n",
        "                              n_iter=10, \n",
        "                              n_jobs=-1,\n",
        "                              verbose=1)\n",
        "gb_tuned.fit(X_train, y_train)"
      ],
      "metadata": {
        "colab": {
          "base_uri": "https://localhost:8080/"
        },
        "id": "J6Sx09Ucp8eX",
        "outputId": "0fd42139-e814-4a6c-937e-5166e23e0417"
      },
      "execution_count": null,
      "outputs": [
        {
          "output_type": "stream",
          "name": "stdout",
          "text": [
            "Fitting 5 folds for each of 10 candidates, totalling 50 fits\n"
          ]
        },
        {
          "output_type": "execute_result",
          "data": {
            "text/plain": [
              "RandomizedSearchCV(cv=5, estimator=GradientBoostingRegressor(random_state=37),\n",
              "                   n_jobs=-1,\n",
              "                   param_distributions={'max_features': ['auto', 'sqrt', 'log2',\n",
              "                                                         None],\n",
              "                                        'min_samples_leaf': [2, 4, 6, 8],\n",
              "                                        'min_samples_split': [2, 6, 10],\n",
              "                                        'n_estimators': [100, 150, 200, 250,\n",
              "                                                         350, 400]},\n",
              "                   verbose=1)"
            ]
          },
          "metadata": {},
          "execution_count": 60
        }
      ]
    },
    {
      "cell_type": "code",
      "source": [],
      "metadata": {
        "id": "J483lJDaqbMY"
      },
      "execution_count": null,
      "outputs": []
    }
  ]
}