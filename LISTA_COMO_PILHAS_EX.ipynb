{
  "nbformat": 4,
  "nbformat_minor": 0,
  "metadata": {
    "colab": {
      "provenance": [],
      "authorship_tag": "ABX9TyMML9tXILuwmYYzo/WZ2jcY",
      "include_colab_link": true
    },
    "kernelspec": {
      "name": "python3",
      "display_name": "Python 3"
    },
    "language_info": {
      "name": "python"
    }
  },
  "cells": [
    {
      "cell_type": "markdown",
      "metadata": {
        "id": "view-in-github",
        "colab_type": "text"
      },
      "source": [
        "<a href=\"https://colab.research.google.com/github/diego-andrade279/Aula-de-deploy-de-modelos-de-machine-learning-usando-streamlit/blob/main/LISTA_COMO_PILHAS_EX.ipynb\" target=\"_parent\"><img src=\"https://colab.research.google.com/assets/colab-badge.svg\" alt=\"Open In Colab\"/></a>"
      ]
    },
    {
      "cell_type": "code",
      "execution_count": 12,
      "metadata": {
        "colab": {
          "base_uri": "https://localhost:8080/"
        },
        "id": "baQt_6UGEmoF",
        "outputId": "178915cf-18f5-43f5-be94-27f3f58e76e2"
      },
      "outputs": [
        {
          "name": "stdout",
          "output_type": "stream",
          "text": [
            "\n",
            " Existem: 0 Pratos na pilha\n",
            " A pilha atual: 0\n",
            "digite E para empilhar um novo prato,\n",
            "ou digite D para desempilhar um prato \n",
            " e S para sair\n",
            "Operacao(E,D,S): E\n",
            "\n",
            " Existem: 1 Pratos na pilha\n",
            " A pilha atual: 1\n",
            "digite E para empilhar um novo prato,\n",
            "ou digite D para desempilhar um prato \n",
            " e S para sair\n",
            "Operacao(E,D,S): E\n",
            "\n",
            " Existem: 2 Pratos na pilha\n",
            " A pilha atual: 2\n",
            "digite E para empilhar um novo prato,\n",
            "ou digite D para desempilhar um prato \n",
            " e S para sair\n",
            "Operacao(E,D,S): d\n",
            "Operaçao invalida!!! Digite as opcoes validas.\n",
            "\n",
            " Existem: 2 Pratos na pilha\n",
            " A pilha atual: 2\n",
            "digite E para empilhar um novo prato,\n",
            "ou digite D para desempilhar um prato \n",
            " e S para sair\n",
            "Operacao(E,D,S): S\n"
          ]
        }
      ],
      "source": [
        "#PILHAS DE PRATOS\n",
        "prato = 0 \n",
        "pilha = list(range(1, prato+1))\n",
        "\n",
        "while True:\n",
        "   print(f\"\\n Existem: {len(pilha)} Pratos na pilha\")\n",
        "   print(f\" A pilha atual: {len(pilha)}\")\n",
        "   print(\"digite E para empilhar um novo prato,\\nou digite D para desempilhar um prato \\n e S para sair\")\n",
        "\n",
        "   operacao = input(\"Operacao(E,D,S): \")\n",
        "   if operacao == \"D\" or \"d\":\n",
        "     if len(pilha) > 0:\n",
        "       lavado = pilha.pop(-1)\n",
        "       print(f\"Prato {lavado} Lavados\")\n",
        "     else:\n",
        "       print(\"Pilha vazia nao a pratos para Lavar.\")\n",
        "\n",
        "   elif operacao == \"E\":\n",
        "     prato += 1 # novo prato\n",
        "     pilha.append(prato) #add o prato a pilha\n",
        "   \n",
        "   elif operacao == \"S\":\n",
        "     break\n",
        "   \n",
        "   else:\n",
        "     print(\"Operaçao invalida!!! Digite as opcoes validas.\")\n",
        "\n",
        "\n",
        "   "
      ]
    },
    {
      "cell_type": "code",
      "source": [],
      "metadata": {
        "id": "IPucTNYKFMMH"
      },
      "execution_count": null,
      "outputs": []
    }
  ]
}