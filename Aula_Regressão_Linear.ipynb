{
  "nbformat": 4,
  "nbformat_minor": 0,
  "metadata": {
    "colab": {
      "provenance": [],
      "collapsed_sections": [],
      "include_colab_link": true
    },
    "kernelspec": {
      "name": "python3",
      "display_name": "Python 3"
    },
    "language_info": {
      "name": "python"
    }
  },
  "cells": [
    {
      "cell_type": "markdown",
      "metadata": {
        "id": "view-in-github",
        "colab_type": "text"
      },
      "source": [
        "<a href=\"https://colab.research.google.com/github/diego-andrade279/Aula-de-deploy-de-modelos-de-machine-learning-usando-streamlit/blob/main/Aula_Regress%C3%A3o_Linear.ipynb\" target=\"_parent\"><img src=\"https://colab.research.google.com/assets/colab-badge.svg\" alt=\"Open In Colab\"/></a>"
      ]
    },
    {
      "cell_type": "markdown",
      "source": [
        "## **Dicionário de dados **\n",
        "\n",
        "- mpg - Milhas por galão, variável target\n",
        "- cyl - Numero de cilindros do motor\n",
        "- dis - Deslocamento\n",
        "- hp - Potencia bruta\n",
        "- drat - Relação do eixo traseiro\n",
        "- wt - Peso do veiculo\n",
        "- qsec - Tempo no 1/4 de milha\n",
        "- vs - Motor (0 = motor em V, 1 Motor em linha)\n",
        "- am - Tipo de transmissão (0 = automatica, 1 = manual)\n",
        "- gear - Numero de marchas\n",
        "- carb - Numero de carburadores"
      ],
      "metadata": {
        "id": "JXXAWNcmKNIT"
      }
    },
    {
      "cell_type": "code",
      "source": [
        "import pandas as pd\n",
        "import matplotlib.pyplot as plt\n",
        "import seaborn as sns\n",
        "import numpy as np\n",
        "\n",
        "from pydrive.auth import GoogleAuth \n",
        "from pydrive.drive import GoogleDrive \n",
        "from google.colab import auth \n",
        "from oauth2client.client import GoogleCredentials \n",
        "import statsmodels.api as sm\n",
        "\n",
        "pd.set_option('display.max_columns', None)\n",
        "pd.set_option('display.max_rows', None)"
      ],
      "metadata": {
        "id": "8k5V9nGmKOA9"
      },
      "execution_count": null,
      "outputs": []
    },
    {
      "cell_type": "code",
      "source": [
        "auth.authenticate_user() \n",
        "gauth = GoogleAuth() \n",
        "gauth.credentials = GoogleCredentials.get_application_default() \n",
        "drive = GoogleDrive(gauth)"
      ],
      "metadata": {
        "id": "LJSKnXy8KXW3"
      },
      "execution_count": null,
      "outputs": []
    },
    {
      "cell_type": "code",
      "source": [
        "link = 'https://drive.google.com/file/d/1oFUy7dYR93Qx4gcGlTXZAN4Itei6lSYC/view?usp=sharing'\n",
        "id = link.split(\"/\")[-2]\n",
        "downloaded = drive.CreateFile({'id':id})\n",
        "downloaded.GetContentFile('mtcars.csv')\n",
        "df = pd.read_csv('mtcars.csv')\n",
        "df.shape"
      ],
      "metadata": {
        "colab": {
          "base_uri": "https://localhost:8080/"
        },
        "id": "slC2QlwwKbDt",
        "outputId": "423c1887-95ca-4b5c-e56e-df25453fe473"
      },
      "execution_count": null,
      "outputs": [
        {
          "output_type": "execute_result",
          "data": {
            "text/plain": [
              "(32, 12)"
            ]
          },
          "metadata": {},
          "execution_count": 4
        }
      ]
    },
    {
      "cell_type": "code",
      "source": [
        "# Altera nomes das colunas\n",
        "df.columns = ['modelo', 'mpg', 'cilindros', 'deslocamento', 'cavalos', 'relacao', 'peso', 'tempo_1.4_milha', 'motor_em_v', \n",
        "              'transmissao_automatica', 'marchas', 'carburadores']"
      ],
      "metadata": {
        "id": "stEDco--KuhI"
      },
      "execution_count": null,
      "outputs": []
    },
    {
      "cell_type": "markdown",
      "source": [
        "##### Análise Exploratória"
      ],
      "metadata": {
        "id": "gVC-S0nON6-j"
      }
    },
    {
      "cell_type": "code",
      "source": [
        "# Analises iniciais dos dados \n",
        "df.describe()"
      ],
      "metadata": {
        "colab": {
          "base_uri": "https://localhost:8080/",
          "height": 364
        },
        "id": "4Lew7BndK1Yi",
        "outputId": "5f98763f-87f7-49f2-f358-6d7061e9cccf"
      },
      "execution_count": null,
      "outputs": [
        {
          "output_type": "execute_result",
          "data": {
            "text/plain": [
              "             mpg  cilindros  deslocamento     cavalos    relacao       peso  \\\n",
              "count  32.000000  32.000000     32.000000   32.000000  32.000000  32.000000   \n",
              "mean   20.090625   6.187500    230.721875  146.687500   3.596563   3.217250   \n",
              "std     6.026948   1.785922    123.938694   68.562868   0.534679   0.978457   \n",
              "min    10.400000   4.000000     71.100000   52.000000   2.760000   1.513000   \n",
              "25%    15.425000   4.000000    120.825000   96.500000   3.080000   2.581250   \n",
              "50%    19.200000   6.000000    196.300000  123.000000   3.695000   3.325000   \n",
              "75%    22.800000   8.000000    326.000000  180.000000   3.920000   3.610000   \n",
              "max    33.900000   8.000000    472.000000  335.000000   4.930000   5.424000   \n",
              "\n",
              "       tempo_1.4_milha  motor_em_v  transmissao_automatica    marchas  \\\n",
              "count        32.000000   32.000000               32.000000  32.000000   \n",
              "mean         17.848750    0.437500                0.406250   3.687500   \n",
              "std           1.786943    0.504016                0.498991   0.737804   \n",
              "min          14.500000    0.000000                0.000000   3.000000   \n",
              "25%          16.892500    0.000000                0.000000   3.000000   \n",
              "50%          17.710000    0.000000                0.000000   4.000000   \n",
              "75%          18.900000    1.000000                1.000000   4.000000   \n",
              "max          22.900000    1.000000                1.000000   5.000000   \n",
              "\n",
              "       carburadores  \n",
              "count       32.0000  \n",
              "mean         2.8125  \n",
              "std          1.6152  \n",
              "min          1.0000  \n",
              "25%          2.0000  \n",
              "50%          2.0000  \n",
              "75%          4.0000  \n",
              "max          8.0000  "
            ],
            "text/html": [
              "\n",
              "  <div id=\"df-cbc33da9-df03-40c5-99ef-816f66268a28\">\n",
              "    <div class=\"colab-df-container\">\n",
              "      <div>\n",
              "<style scoped>\n",
              "    .dataframe tbody tr th:only-of-type {\n",
              "        vertical-align: middle;\n",
              "    }\n",
              "\n",
              "    .dataframe tbody tr th {\n",
              "        vertical-align: top;\n",
              "    }\n",
              "\n",
              "    .dataframe thead th {\n",
              "        text-align: right;\n",
              "    }\n",
              "</style>\n",
              "<table border=\"1\" class=\"dataframe\">\n",
              "  <thead>\n",
              "    <tr style=\"text-align: right;\">\n",
              "      <th></th>\n",
              "      <th>mpg</th>\n",
              "      <th>cilindros</th>\n",
              "      <th>deslocamento</th>\n",
              "      <th>cavalos</th>\n",
              "      <th>relacao</th>\n",
              "      <th>peso</th>\n",
              "      <th>tempo_1.4_milha</th>\n",
              "      <th>motor_em_v</th>\n",
              "      <th>transmissao_automatica</th>\n",
              "      <th>marchas</th>\n",
              "      <th>carburadores</th>\n",
              "    </tr>\n",
              "  </thead>\n",
              "  <tbody>\n",
              "    <tr>\n",
              "      <th>count</th>\n",
              "      <td>32.000000</td>\n",
              "      <td>32.000000</td>\n",
              "      <td>32.000000</td>\n",
              "      <td>32.000000</td>\n",
              "      <td>32.000000</td>\n",
              "      <td>32.000000</td>\n",
              "      <td>32.000000</td>\n",
              "      <td>32.000000</td>\n",
              "      <td>32.000000</td>\n",
              "      <td>32.000000</td>\n",
              "      <td>32.0000</td>\n",
              "    </tr>\n",
              "    <tr>\n",
              "      <th>mean</th>\n",
              "      <td>20.090625</td>\n",
              "      <td>6.187500</td>\n",
              "      <td>230.721875</td>\n",
              "      <td>146.687500</td>\n",
              "      <td>3.596563</td>\n",
              "      <td>3.217250</td>\n",
              "      <td>17.848750</td>\n",
              "      <td>0.437500</td>\n",
              "      <td>0.406250</td>\n",
              "      <td>3.687500</td>\n",
              "      <td>2.8125</td>\n",
              "    </tr>\n",
              "    <tr>\n",
              "      <th>std</th>\n",
              "      <td>6.026948</td>\n",
              "      <td>1.785922</td>\n",
              "      <td>123.938694</td>\n",
              "      <td>68.562868</td>\n",
              "      <td>0.534679</td>\n",
              "      <td>0.978457</td>\n",
              "      <td>1.786943</td>\n",
              "      <td>0.504016</td>\n",
              "      <td>0.498991</td>\n",
              "      <td>0.737804</td>\n",
              "      <td>1.6152</td>\n",
              "    </tr>\n",
              "    <tr>\n",
              "      <th>min</th>\n",
              "      <td>10.400000</td>\n",
              "      <td>4.000000</td>\n",
              "      <td>71.100000</td>\n",
              "      <td>52.000000</td>\n",
              "      <td>2.760000</td>\n",
              "      <td>1.513000</td>\n",
              "      <td>14.500000</td>\n",
              "      <td>0.000000</td>\n",
              "      <td>0.000000</td>\n",
              "      <td>3.000000</td>\n",
              "      <td>1.0000</td>\n",
              "    </tr>\n",
              "    <tr>\n",
              "      <th>25%</th>\n",
              "      <td>15.425000</td>\n",
              "      <td>4.000000</td>\n",
              "      <td>120.825000</td>\n",
              "      <td>96.500000</td>\n",
              "      <td>3.080000</td>\n",
              "      <td>2.581250</td>\n",
              "      <td>16.892500</td>\n",
              "      <td>0.000000</td>\n",
              "      <td>0.000000</td>\n",
              "      <td>3.000000</td>\n",
              "      <td>2.0000</td>\n",
              "    </tr>\n",
              "    <tr>\n",
              "      <th>50%</th>\n",
              "      <td>19.200000</td>\n",
              "      <td>6.000000</td>\n",
              "      <td>196.300000</td>\n",
              "      <td>123.000000</td>\n",
              "      <td>3.695000</td>\n",
              "      <td>3.325000</td>\n",
              "      <td>17.710000</td>\n",
              "      <td>0.000000</td>\n",
              "      <td>0.000000</td>\n",
              "      <td>4.000000</td>\n",
              "      <td>2.0000</td>\n",
              "    </tr>\n",
              "    <tr>\n",
              "      <th>75%</th>\n",
              "      <td>22.800000</td>\n",
              "      <td>8.000000</td>\n",
              "      <td>326.000000</td>\n",
              "      <td>180.000000</td>\n",
              "      <td>3.920000</td>\n",
              "      <td>3.610000</td>\n",
              "      <td>18.900000</td>\n",
              "      <td>1.000000</td>\n",
              "      <td>1.000000</td>\n",
              "      <td>4.000000</td>\n",
              "      <td>4.0000</td>\n",
              "    </tr>\n",
              "    <tr>\n",
              "      <th>max</th>\n",
              "      <td>33.900000</td>\n",
              "      <td>8.000000</td>\n",
              "      <td>472.000000</td>\n",
              "      <td>335.000000</td>\n",
              "      <td>4.930000</td>\n",
              "      <td>5.424000</td>\n",
              "      <td>22.900000</td>\n",
              "      <td>1.000000</td>\n",
              "      <td>1.000000</td>\n",
              "      <td>5.000000</td>\n",
              "      <td>8.0000</td>\n",
              "    </tr>\n",
              "  </tbody>\n",
              "</table>\n",
              "</div>\n",
              "      <button class=\"colab-df-convert\" onclick=\"convertToInteractive('df-cbc33da9-df03-40c5-99ef-816f66268a28')\"\n",
              "              title=\"Convert this dataframe to an interactive table.\"\n",
              "              style=\"display:none;\">\n",
              "        \n",
              "  <svg xmlns=\"http://www.w3.org/2000/svg\" height=\"24px\"viewBox=\"0 0 24 24\"\n",
              "       width=\"24px\">\n",
              "    <path d=\"M0 0h24v24H0V0z\" fill=\"none\"/>\n",
              "    <path d=\"M18.56 5.44l.94 2.06.94-2.06 2.06-.94-2.06-.94-.94-2.06-.94 2.06-2.06.94zm-11 1L8.5 8.5l.94-2.06 2.06-.94-2.06-.94L8.5 2.5l-.94 2.06-2.06.94zm10 10l.94 2.06.94-2.06 2.06-.94-2.06-.94-.94-2.06-.94 2.06-2.06.94z\"/><path d=\"M17.41 7.96l-1.37-1.37c-.4-.4-.92-.59-1.43-.59-.52 0-1.04.2-1.43.59L10.3 9.45l-7.72 7.72c-.78.78-.78 2.05 0 2.83L4 21.41c.39.39.9.59 1.41.59.51 0 1.02-.2 1.41-.59l7.78-7.78 2.81-2.81c.8-.78.8-2.07 0-2.86zM5.41 20L4 18.59l7.72-7.72 1.47 1.35L5.41 20z\"/>\n",
              "  </svg>\n",
              "      </button>\n",
              "      \n",
              "  <style>\n",
              "    .colab-df-container {\n",
              "      display:flex;\n",
              "      flex-wrap:wrap;\n",
              "      gap: 12px;\n",
              "    }\n",
              "\n",
              "    .colab-df-convert {\n",
              "      background-color: #E8F0FE;\n",
              "      border: none;\n",
              "      border-radius: 50%;\n",
              "      cursor: pointer;\n",
              "      display: none;\n",
              "      fill: #1967D2;\n",
              "      height: 32px;\n",
              "      padding: 0 0 0 0;\n",
              "      width: 32px;\n",
              "    }\n",
              "\n",
              "    .colab-df-convert:hover {\n",
              "      background-color: #E2EBFA;\n",
              "      box-shadow: 0px 1px 2px rgba(60, 64, 67, 0.3), 0px 1px 3px 1px rgba(60, 64, 67, 0.15);\n",
              "      fill: #174EA6;\n",
              "    }\n",
              "\n",
              "    [theme=dark] .colab-df-convert {\n",
              "      background-color: #3B4455;\n",
              "      fill: #D2E3FC;\n",
              "    }\n",
              "\n",
              "    [theme=dark] .colab-df-convert:hover {\n",
              "      background-color: #434B5C;\n",
              "      box-shadow: 0px 1px 3px 1px rgba(0, 0, 0, 0.15);\n",
              "      filter: drop-shadow(0px 1px 2px rgba(0, 0, 0, 0.3));\n",
              "      fill: #FFFFFF;\n",
              "    }\n",
              "  </style>\n",
              "\n",
              "      <script>\n",
              "        const buttonEl =\n",
              "          document.querySelector('#df-cbc33da9-df03-40c5-99ef-816f66268a28 button.colab-df-convert');\n",
              "        buttonEl.style.display =\n",
              "          google.colab.kernel.accessAllowed ? 'block' : 'none';\n",
              "\n",
              "        async function convertToInteractive(key) {\n",
              "          const element = document.querySelector('#df-cbc33da9-df03-40c5-99ef-816f66268a28');\n",
              "          const dataTable =\n",
              "            await google.colab.kernel.invokeFunction('convertToInteractive',\n",
              "                                                     [key], {});\n",
              "          if (!dataTable) return;\n",
              "\n",
              "          const docLinkHtml = 'Like what you see? Visit the ' +\n",
              "            '<a target=\"_blank\" href=https://colab.research.google.com/notebooks/data_table.ipynb>data table notebook</a>'\n",
              "            + ' to learn more about interactive tables.';\n",
              "          element.innerHTML = '';\n",
              "          dataTable['output_type'] = 'display_data';\n",
              "          await google.colab.output.renderOutput(dataTable, element);\n",
              "          const docLink = document.createElement('div');\n",
              "          docLink.innerHTML = docLinkHtml;\n",
              "          element.appendChild(docLink);\n",
              "        }\n",
              "      </script>\n",
              "    </div>\n",
              "  </div>\n",
              "  "
            ]
          },
          "metadata": {},
          "execution_count": 8
        }
      ]
    },
    {
      "cell_type": "code",
      "source": [
        "# Analise de correlação\n",
        "df.corr()"
      ],
      "metadata": {
        "colab": {
          "base_uri": "https://localhost:8080/",
          "height": 458
        },
        "id": "bGFbwcGBLUkr",
        "outputId": "9e7484c4-8022-4164-f156-e5658d95da0f"
      },
      "execution_count": null,
      "outputs": [
        {
          "output_type": "execute_result",
          "data": {
            "text/plain": [
              "                             mpg  cilindros  deslocamento   cavalos   relacao  \\\n",
              "mpg                     1.000000  -0.852162     -0.847551 -0.776168  0.681172   \n",
              "cilindros              -0.852162   1.000000      0.902033  0.832447 -0.699938   \n",
              "deslocamento           -0.847551   0.902033      1.000000  0.790949 -0.710214   \n",
              "cavalos                -0.776168   0.832447      0.790949  1.000000 -0.448759   \n",
              "relacao                 0.681172  -0.699938     -0.710214 -0.448759  1.000000   \n",
              "peso                   -0.867659   0.782496      0.887980  0.658748 -0.712441   \n",
              "tempo_1.4_milha         0.418684  -0.591242     -0.433698 -0.708223  0.091205   \n",
              "motor_em_v              0.664039  -0.810812     -0.710416 -0.723097  0.440278   \n",
              "transmissao_automatica  0.599832  -0.522607     -0.591227 -0.243204  0.712711   \n",
              "marchas                 0.480285  -0.492687     -0.555569 -0.125704  0.699610   \n",
              "carburadores           -0.550925   0.526988      0.394977  0.749812 -0.090790   \n",
              "\n",
              "                            peso  tempo_1.4_milha  motor_em_v  \\\n",
              "mpg                    -0.867659         0.418684    0.664039   \n",
              "cilindros               0.782496        -0.591242   -0.810812   \n",
              "deslocamento            0.887980        -0.433698   -0.710416   \n",
              "cavalos                 0.658748        -0.708223   -0.723097   \n",
              "relacao                -0.712441         0.091205    0.440278   \n",
              "peso                    1.000000        -0.174716   -0.554916   \n",
              "tempo_1.4_milha        -0.174716         1.000000    0.744535   \n",
              "motor_em_v             -0.554916         0.744535    1.000000   \n",
              "transmissao_automatica -0.692495        -0.229861    0.168345   \n",
              "marchas                -0.583287        -0.212682    0.206023   \n",
              "carburadores            0.427606        -0.656249   -0.569607   \n",
              "\n",
              "                        transmissao_automatica   marchas  carburadores  \n",
              "mpg                                   0.599832  0.480285     -0.550925  \n",
              "cilindros                            -0.522607 -0.492687      0.526988  \n",
              "deslocamento                         -0.591227 -0.555569      0.394977  \n",
              "cavalos                              -0.243204 -0.125704      0.749812  \n",
              "relacao                               0.712711  0.699610     -0.090790  \n",
              "peso                                 -0.692495 -0.583287      0.427606  \n",
              "tempo_1.4_milha                      -0.229861 -0.212682     -0.656249  \n",
              "motor_em_v                            0.168345  0.206023     -0.569607  \n",
              "transmissao_automatica                1.000000  0.794059      0.057534  \n",
              "marchas                               0.794059  1.000000      0.274073  \n",
              "carburadores                          0.057534  0.274073      1.000000  "
            ],
            "text/html": [
              "\n",
              "  <div id=\"df-ec7aa7a9-c2f8-4df3-936a-138b66dfde0c\">\n",
              "    <div class=\"colab-df-container\">\n",
              "      <div>\n",
              "<style scoped>\n",
              "    .dataframe tbody tr th:only-of-type {\n",
              "        vertical-align: middle;\n",
              "    }\n",
              "\n",
              "    .dataframe tbody tr th {\n",
              "        vertical-align: top;\n",
              "    }\n",
              "\n",
              "    .dataframe thead th {\n",
              "        text-align: right;\n",
              "    }\n",
              "</style>\n",
              "<table border=\"1\" class=\"dataframe\">\n",
              "  <thead>\n",
              "    <tr style=\"text-align: right;\">\n",
              "      <th></th>\n",
              "      <th>mpg</th>\n",
              "      <th>cilindros</th>\n",
              "      <th>deslocamento</th>\n",
              "      <th>cavalos</th>\n",
              "      <th>relacao</th>\n",
              "      <th>peso</th>\n",
              "      <th>tempo_1.4_milha</th>\n",
              "      <th>motor_em_v</th>\n",
              "      <th>transmissao_automatica</th>\n",
              "      <th>marchas</th>\n",
              "      <th>carburadores</th>\n",
              "    </tr>\n",
              "  </thead>\n",
              "  <tbody>\n",
              "    <tr>\n",
              "      <th>mpg</th>\n",
              "      <td>1.000000</td>\n",
              "      <td>-0.852162</td>\n",
              "      <td>-0.847551</td>\n",
              "      <td>-0.776168</td>\n",
              "      <td>0.681172</td>\n",
              "      <td>-0.867659</td>\n",
              "      <td>0.418684</td>\n",
              "      <td>0.664039</td>\n",
              "      <td>0.599832</td>\n",
              "      <td>0.480285</td>\n",
              "      <td>-0.550925</td>\n",
              "    </tr>\n",
              "    <tr>\n",
              "      <th>cilindros</th>\n",
              "      <td>-0.852162</td>\n",
              "      <td>1.000000</td>\n",
              "      <td>0.902033</td>\n",
              "      <td>0.832447</td>\n",
              "      <td>-0.699938</td>\n",
              "      <td>0.782496</td>\n",
              "      <td>-0.591242</td>\n",
              "      <td>-0.810812</td>\n",
              "      <td>-0.522607</td>\n",
              "      <td>-0.492687</td>\n",
              "      <td>0.526988</td>\n",
              "    </tr>\n",
              "    <tr>\n",
              "      <th>deslocamento</th>\n",
              "      <td>-0.847551</td>\n",
              "      <td>0.902033</td>\n",
              "      <td>1.000000</td>\n",
              "      <td>0.790949</td>\n",
              "      <td>-0.710214</td>\n",
              "      <td>0.887980</td>\n",
              "      <td>-0.433698</td>\n",
              "      <td>-0.710416</td>\n",
              "      <td>-0.591227</td>\n",
              "      <td>-0.555569</td>\n",
              "      <td>0.394977</td>\n",
              "    </tr>\n",
              "    <tr>\n",
              "      <th>cavalos</th>\n",
              "      <td>-0.776168</td>\n",
              "      <td>0.832447</td>\n",
              "      <td>0.790949</td>\n",
              "      <td>1.000000</td>\n",
              "      <td>-0.448759</td>\n",
              "      <td>0.658748</td>\n",
              "      <td>-0.708223</td>\n",
              "      <td>-0.723097</td>\n",
              "      <td>-0.243204</td>\n",
              "      <td>-0.125704</td>\n",
              "      <td>0.749812</td>\n",
              "    </tr>\n",
              "    <tr>\n",
              "      <th>relacao</th>\n",
              "      <td>0.681172</td>\n",
              "      <td>-0.699938</td>\n",
              "      <td>-0.710214</td>\n",
              "      <td>-0.448759</td>\n",
              "      <td>1.000000</td>\n",
              "      <td>-0.712441</td>\n",
              "      <td>0.091205</td>\n",
              "      <td>0.440278</td>\n",
              "      <td>0.712711</td>\n",
              "      <td>0.699610</td>\n",
              "      <td>-0.090790</td>\n",
              "    </tr>\n",
              "    <tr>\n",
              "      <th>peso</th>\n",
              "      <td>-0.867659</td>\n",
              "      <td>0.782496</td>\n",
              "      <td>0.887980</td>\n",
              "      <td>0.658748</td>\n",
              "      <td>-0.712441</td>\n",
              "      <td>1.000000</td>\n",
              "      <td>-0.174716</td>\n",
              "      <td>-0.554916</td>\n",
              "      <td>-0.692495</td>\n",
              "      <td>-0.583287</td>\n",
              "      <td>0.427606</td>\n",
              "    </tr>\n",
              "    <tr>\n",
              "      <th>tempo_1.4_milha</th>\n",
              "      <td>0.418684</td>\n",
              "      <td>-0.591242</td>\n",
              "      <td>-0.433698</td>\n",
              "      <td>-0.708223</td>\n",
              "      <td>0.091205</td>\n",
              "      <td>-0.174716</td>\n",
              "      <td>1.000000</td>\n",
              "      <td>0.744535</td>\n",
              "      <td>-0.229861</td>\n",
              "      <td>-0.212682</td>\n",
              "      <td>-0.656249</td>\n",
              "    </tr>\n",
              "    <tr>\n",
              "      <th>motor_em_v</th>\n",
              "      <td>0.664039</td>\n",
              "      <td>-0.810812</td>\n",
              "      <td>-0.710416</td>\n",
              "      <td>-0.723097</td>\n",
              "      <td>0.440278</td>\n",
              "      <td>-0.554916</td>\n",
              "      <td>0.744535</td>\n",
              "      <td>1.000000</td>\n",
              "      <td>0.168345</td>\n",
              "      <td>0.206023</td>\n",
              "      <td>-0.569607</td>\n",
              "    </tr>\n",
              "    <tr>\n",
              "      <th>transmissao_automatica</th>\n",
              "      <td>0.599832</td>\n",
              "      <td>-0.522607</td>\n",
              "      <td>-0.591227</td>\n",
              "      <td>-0.243204</td>\n",
              "      <td>0.712711</td>\n",
              "      <td>-0.692495</td>\n",
              "      <td>-0.229861</td>\n",
              "      <td>0.168345</td>\n",
              "      <td>1.000000</td>\n",
              "      <td>0.794059</td>\n",
              "      <td>0.057534</td>\n",
              "    </tr>\n",
              "    <tr>\n",
              "      <th>marchas</th>\n",
              "      <td>0.480285</td>\n",
              "      <td>-0.492687</td>\n",
              "      <td>-0.555569</td>\n",
              "      <td>-0.125704</td>\n",
              "      <td>0.699610</td>\n",
              "      <td>-0.583287</td>\n",
              "      <td>-0.212682</td>\n",
              "      <td>0.206023</td>\n",
              "      <td>0.794059</td>\n",
              "      <td>1.000000</td>\n",
              "      <td>0.274073</td>\n",
              "    </tr>\n",
              "    <tr>\n",
              "      <th>carburadores</th>\n",
              "      <td>-0.550925</td>\n",
              "      <td>0.526988</td>\n",
              "      <td>0.394977</td>\n",
              "      <td>0.749812</td>\n",
              "      <td>-0.090790</td>\n",
              "      <td>0.427606</td>\n",
              "      <td>-0.656249</td>\n",
              "      <td>-0.569607</td>\n",
              "      <td>0.057534</td>\n",
              "      <td>0.274073</td>\n",
              "      <td>1.000000</td>\n",
              "    </tr>\n",
              "  </tbody>\n",
              "</table>\n",
              "</div>\n",
              "      <button class=\"colab-df-convert\" onclick=\"convertToInteractive('df-ec7aa7a9-c2f8-4df3-936a-138b66dfde0c')\"\n",
              "              title=\"Convert this dataframe to an interactive table.\"\n",
              "              style=\"display:none;\">\n",
              "        \n",
              "  <svg xmlns=\"http://www.w3.org/2000/svg\" height=\"24px\"viewBox=\"0 0 24 24\"\n",
              "       width=\"24px\">\n",
              "    <path d=\"M0 0h24v24H0V0z\" fill=\"none\"/>\n",
              "    <path d=\"M18.56 5.44l.94 2.06.94-2.06 2.06-.94-2.06-.94-.94-2.06-.94 2.06-2.06.94zm-11 1L8.5 8.5l.94-2.06 2.06-.94-2.06-.94L8.5 2.5l-.94 2.06-2.06.94zm10 10l.94 2.06.94-2.06 2.06-.94-2.06-.94-.94-2.06-.94 2.06-2.06.94z\"/><path d=\"M17.41 7.96l-1.37-1.37c-.4-.4-.92-.59-1.43-.59-.52 0-1.04.2-1.43.59L10.3 9.45l-7.72 7.72c-.78.78-.78 2.05 0 2.83L4 21.41c.39.39.9.59 1.41.59.51 0 1.02-.2 1.41-.59l7.78-7.78 2.81-2.81c.8-.78.8-2.07 0-2.86zM5.41 20L4 18.59l7.72-7.72 1.47 1.35L5.41 20z\"/>\n",
              "  </svg>\n",
              "      </button>\n",
              "      \n",
              "  <style>\n",
              "    .colab-df-container {\n",
              "      display:flex;\n",
              "      flex-wrap:wrap;\n",
              "      gap: 12px;\n",
              "    }\n",
              "\n",
              "    .colab-df-convert {\n",
              "      background-color: #E8F0FE;\n",
              "      border: none;\n",
              "      border-radius: 50%;\n",
              "      cursor: pointer;\n",
              "      display: none;\n",
              "      fill: #1967D2;\n",
              "      height: 32px;\n",
              "      padding: 0 0 0 0;\n",
              "      width: 32px;\n",
              "    }\n",
              "\n",
              "    .colab-df-convert:hover {\n",
              "      background-color: #E2EBFA;\n",
              "      box-shadow: 0px 1px 2px rgba(60, 64, 67, 0.3), 0px 1px 3px 1px rgba(60, 64, 67, 0.15);\n",
              "      fill: #174EA6;\n",
              "    }\n",
              "\n",
              "    [theme=dark] .colab-df-convert {\n",
              "      background-color: #3B4455;\n",
              "      fill: #D2E3FC;\n",
              "    }\n",
              "\n",
              "    [theme=dark] .colab-df-convert:hover {\n",
              "      background-color: #434B5C;\n",
              "      box-shadow: 0px 1px 3px 1px rgba(0, 0, 0, 0.15);\n",
              "      filter: drop-shadow(0px 1px 2px rgba(0, 0, 0, 0.3));\n",
              "      fill: #FFFFFF;\n",
              "    }\n",
              "  </style>\n",
              "\n",
              "      <script>\n",
              "        const buttonEl =\n",
              "          document.querySelector('#df-ec7aa7a9-c2f8-4df3-936a-138b66dfde0c button.colab-df-convert');\n",
              "        buttonEl.style.display =\n",
              "          google.colab.kernel.accessAllowed ? 'block' : 'none';\n",
              "\n",
              "        async function convertToInteractive(key) {\n",
              "          const element = document.querySelector('#df-ec7aa7a9-c2f8-4df3-936a-138b66dfde0c');\n",
              "          const dataTable =\n",
              "            await google.colab.kernel.invokeFunction('convertToInteractive',\n",
              "                                                     [key], {});\n",
              "          if (!dataTable) return;\n",
              "\n",
              "          const docLinkHtml = 'Like what you see? Visit the ' +\n",
              "            '<a target=\"_blank\" href=https://colab.research.google.com/notebooks/data_table.ipynb>data table notebook</a>'\n",
              "            + ' to learn more about interactive tables.';\n",
              "          element.innerHTML = '';\n",
              "          dataTable['output_type'] = 'display_data';\n",
              "          await google.colab.output.renderOutput(dataTable, element);\n",
              "          const docLink = document.createElement('div');\n",
              "          docLink.innerHTML = docLinkHtml;\n",
              "          element.appendChild(docLink);\n",
              "        }\n",
              "      </script>\n",
              "    </div>\n",
              "  </div>\n",
              "  "
            ]
          },
          "metadata": {},
          "execution_count": 9
        }
      ]
    },
    {
      "cell_type": "code",
      "source": [
        "sns.heatmap(df.corr(), \n",
        "            annot=False, \n",
        "            fmt='.2f', \n",
        "            cmap='Blues')\n",
        "plt.title('Correlação entre as variáveis do dataset MtCars')\n",
        "plt.show()"
      ],
      "metadata": {
        "colab": {
          "base_uri": "https://localhost:8080/",
          "height": 394
        },
        "id": "1EMtDBp8P4YO",
        "outputId": "eb06a4d5-722d-43c9-cb8e-9e3c635ad604"
      },
      "execution_count": null,
      "outputs": [
        {
          "output_type": "display_data",
          "data": {
            "text/plain": [
              "<Figure size 432x288 with 2 Axes>"
            ],
            "image/png": "[encoded data removed]"
          },
          "metadata": {
            "needs_background": "light"
          }
        }
      ]
    },
    {
      "cell_type": "markdown",
      "source": [
        "#### Conclusões e Hipoteses\n",
        "\n",
        "Observamos que o peso tem mais relação com o milhas por galão que a própria cavalaria do veiculo. \n",
        "\n",
        "Uma hipotese que eu tinha era a de que motores em V teriam consumo maior, mas pela correlação não demosntra este comportamento. \n",
        "\n",
        "Vamos investigar a relaçao entre quantidade de carburadores, cilindros, peso, potencia e deslocamento se relacionam com o consumo apresentado em mpg."
      ],
      "metadata": {
        "id": "Mgn4364pM2DB"
      }
    },
    {
      "cell_type": "code",
      "source": [
        "import seaborn as sns "
      ],
      "metadata": {
        "id": "h9s1nlaAMPcj"
      },
      "execution_count": null,
      "outputs": []
    },
    {
      "cell_type": "code",
      "source": [
        "sns.pairplot(df)"
      ],
      "metadata": {
        "id": "W76a60hJNo9A"
      },
      "execution_count": null,
      "outputs": []
    },
    {
      "cell_type": "code",
      "source": [
        "g = sns.FacetGrid(df, col='cilindros')\n",
        "g.map(plt.hist, 'cavalos', bins=30)\n",
        "plt.show()"
      ],
      "metadata": {
        "colab": {
          "base_uri": "https://localhost:8080/",
          "height": 225
        },
        "id": "lol692BDNrNP",
        "outputId": "2a3dd9a8-794c-48c2-d15e-0257697d2402"
      },
      "execution_count": null,
      "outputs": [
        {
          "output_type": "display_data",
          "data": {
            "text/plain": [
              "<Figure size 648x216 with 3 Axes>"
            ],
            "image/png": "[encoded data removed]"
          },
          "metadata": {
            "needs_background": "light"
          }
        }
      ]
    },
    {
      "cell_type": "markdown",
      "source": [
        "Observamos que carros com 8 cilindros possuem maior cavalaria de modo de geral, partindo de 150 cavalos até mais de 300 cavalos. "
      ],
      "metadata": {
        "id": "a3ydPjGwOgWj"
      }
    },
    {
      "cell_type": "code",
      "source": [
        "g = sns.FacetGrid(df, col='cilindros')\n",
        "g.map(plt.hist, 'peso', bins=20)\n",
        "plt.show()"
      ],
      "metadata": {
        "colab": {
          "base_uri": "https://localhost:8080/",
          "height": 225
        },
        "id": "1gsb0BzfORnn",
        "outputId": "29886c18-66bf-4dac-a20e-3e0a9d16ed0e"
      },
      "execution_count": null,
      "outputs": [
        {
          "output_type": "display_data",
          "data": {
            "text/plain": [
              "<Figure size 648x216 with 3 Axes>"
            ],
            "image/png": "[encoded data removed]"
          },
          "metadata": {
            "needs_background": "light"
          }
        }
      ]
    },
    {
      "cell_type": "markdown",
      "source": [
        "Neste gráfico notamos que os carros com 8 cilindros além de maior cavalaria possuem os maiores pesos, chegando a 5.5 toneladas"
      ],
      "metadata": {
        "id": "zCIuroDXO9AA"
      }
    },
    {
      "cell_type": "code",
      "source": [
        "g = sns.FacetGrid(df, col='motor_em_v')\n",
        "g.map(plt.hist, 'peso', bins=20)\n",
        "plt.show()"
      ],
      "metadata": {
        "colab": {
          "base_uri": "https://localhost:8080/",
          "height": 225
        },
        "id": "b6PDJTXROyGt",
        "outputId": "84db41f0-7acc-4949-d7cc-b8f807d378db"
      },
      "execution_count": null,
      "outputs": [
        {
          "output_type": "display_data",
          "data": {
            "text/plain": [
              "<Figure size 432x216 with 2 Axes>"
            ],
            "image/png": "[encoded data removed]"
          },
          "metadata": {
            "needs_background": "light"
          }
        }
      ]
    },
    {
      "cell_type": "markdown",
      "source": [
        "#### Modelo Preditivo"
      ],
      "metadata": {
        "id": "XEoK_wFZQWvQ"
      }
    },
    {
      "cell_type": "code",
      "source": [
        "X = df['peso']\n",
        "y = df['mpg']"
      ],
      "metadata": {
        "id": "UZIen3xtPsrB"
      },
      "execution_count": null,
      "outputs": []
    },
    {
      "cell_type": "code",
      "source": [
        "simple_linear_model = sm.OLS(y, sm.add_constant(X)).fit()"
      ],
      "metadata": {
        "id": "tFown_4QQeyL"
      },
      "execution_count": null,
      "outputs": []
    },
    {
      "cell_type": "code",
      "source": [
        "print(simple_linear_model.summary())"
      ],
      "metadata": {
        "colab": {
          "base_uri": "https://localhost:8080/"
        },
        "id": "YsNh2GjUQoy3",
        "outputId": "a82ed965-fd08-4300-bec4-234e085ce90e"
      },
      "execution_count": null,
      "outputs": [
        {
          "output_type": "stream",
          "name": "stdout",
          "text": [
            "                            OLS Regression Results                            \n",
            "==============================================================================\n",
            "Dep. Variable:                    mpg   R-squared:                       0.753\n",
            "Model:                            OLS   Adj. R-squared:                  0.745\n",
            "Method:                 Least Squares   F-statistic:                     91.38\n",
            "Date:                Tue, 27 Sep 2022   Prob (F-statistic):           1.29e-10\n",
            "Time:                        00:05:09   Log-Likelihood:                -80.015\n",
            "No. Observations:                  32   AIC:                             164.0\n",
            "Df Residuals:                      30   BIC:                             167.0\n",
            "Df Model:                           1                                         \n",
            "Covariance Type:            nonrobust                                         \n",
            "==============================================================================\n",
            "                 coef    std err          t      P>|t|      [0.025      0.975]\n",
            "------------------------------------------------------------------------------\n",
            "const         37.2851      1.878     19.858      0.000      33.450      41.120\n",
            "peso          -5.3445      0.559     -9.559      0.000      -6.486      -4.203\n",
            "==============================================================================\n",
            "Omnibus:                        2.988   Durbin-Watson:                   1.252\n",
            "Prob(Omnibus):                  0.225   Jarque-Bera (JB):                2.399\n",
            "Skew:                           0.668   Prob(JB):                        0.301\n",
            "Kurtosis:                       2.877   Cond. No.                         12.7\n",
            "==============================================================================\n",
            "\n",
            "Notes:\n",
            "[1] Standard Errors assume that the covariance matrix of the errors is correctly specified.\n"
          ]
        }
      ]
    },
    {
      "cell_type": "code",
      "source": [
        "plt.figure(figsize=(8,4))\n",
        "plt.scatter(X,y)\n",
        "plt.plot(X, simple_linear_model.predict(), color='r')\n",
        "plt.xlabel('Peso')\n",
        "plt.ylabel('Milhas por galão')\n",
        "plt.show()"
      ],
      "metadata": {
        "colab": {
          "base_uri": "https://localhost:8080/",
          "height": 282
        },
        "id": "9ZdZLGoBQwH3",
        "outputId": "ff94e8a6-54bf-4f4e-cab2-6b3066fdcbf8"
      },
      "execution_count": null,
      "outputs": [
        {
          "output_type": "display_data",
          "data": {
            "text/plain": [
              "<Figure size 576x288 with 1 Axes>"
            ],
            "image/png": "[encoded data removed]"
          },
          "metadata": {
            "needs_background": "light"
          }
        }
      ]
    },
    {
      "cell_type": "markdown",
      "source": [
        "#### Exercício para agora\n",
        "\n",
        "1. Adicionem mais features no modelo para chegar a um resultado melhor."
      ],
      "metadata": {
        "id": "rtkSzN-DRcO-"
      }
    },
    {
      "cell_type": "code",
      "source": [
        "X = df[['peso', 'cilindros', 'cavalos', 'relacao', 'motor_em_v']]\n",
        "y = df['mpg']"
      ],
      "metadata": {
        "id": "y9x6pKGsROp2"
      },
      "execution_count": null,
      "outputs": []
    },
    {
      "cell_type": "code",
      "source": [
        "multiple_linear_model = sm.OLS(y, sm.add_constant(X)).fit()"
      ],
      "metadata": {
        "colab": {
          "base_uri": "https://localhost:8080/"
        },
        "id": "F9YIgJG9RvbL",
        "outputId": "340838ae-dfce-4ebd-9624-9cac930f68ea"
      },
      "execution_count": null,
      "outputs": [
        {
          "output_type": "stream",
          "name": "stderr",
          "text": [
            "/usr/local/lib/python3.7/dist-packages/statsmodels/tsa/tsatools.py:142: FutureWarning: In a future version of pandas all arguments of concat except for the argument 'objs' will be keyword-only\n",
            "  x = pd.concat(x[::order], 1)\n"
          ]
        }
      ]
    },
    {
      "cell_type": "code",
      "source": [
        "print(multiple_linear_model.summary())"
      ],
      "metadata": {
        "colab": {
          "base_uri": "https://localhost:8080/"
        },
        "id": "9alrlUd1R18i",
        "outputId": "58e004b8-89ee-4b3a-cab8-700079eb5a5d"
      },
      "execution_count": null,
      "outputs": [
        {
          "output_type": "stream",
          "name": "stdout",
          "text": [
            "                            OLS Regression Results                            \n",
            "==============================================================================\n",
            "Dep. Variable:                    mpg   R-squared:                       0.845\n",
            "Model:                            OLS   Adj. R-squared:                  0.816\n",
            "Method:                 Least Squares   F-statistic:                     28.44\n",
            "Date:                Tue, 27 Sep 2022   Prob (F-statistic):           9.22e-10\n",
            "Time:                        00:27:39   Log-Likelihood:                -72.504\n",
            "No. Observations:                  32   AIC:                             157.0\n",
            "Df Residuals:                      26   BIC:                             165.8\n",
            "Df Model:                           5                                         \n",
            "Covariance Type:            nonrobust                                         \n",
            "==============================================================================\n",
            "                 coef    std err          t      P>|t|      [0.025      0.975]\n",
            "------------------------------------------------------------------------------\n",
            "const         33.5289      8.778      3.820      0.001      15.486      51.572\n",
            "peso          -2.9971      0.840     -3.568      0.001      -4.724      -1.270\n",
            "cilindros     -0.6619      0.794     -0.834      0.412      -2.293       0.970\n",
            "cavalos       -0.0207      0.013     -1.564      0.130      -0.048       0.006\n",
            "relacao        0.8823      1.443      0.612      0.546      -2.083       3.848\n",
            "motor_em_v     0.3642      1.670      0.218      0.829      -3.068       3.797\n",
            "==============================================================================\n",
            "Omnibus:                        5.287   Durbin-Watson:                   1.766\n",
            "Prob(Omnibus):                  0.071   Jarque-Bera (JB):                4.160\n",
            "Skew:                           0.876   Prob(JB):                        0.125\n",
            "Kurtosis:                       3.232   Cond. No.                     3.16e+03\n",
            "==============================================================================\n",
            "\n",
            "Notes:\n",
            "[1] Standard Errors assume that the covariance matrix of the errors is correctly specified.\n",
            "[2] The condition number is large, 3.16e+03. This might indicate that there are\n",
            "strong multicollinearity or other numerical problems.\n"
          ]
        }
      ]
    },
    {
      "cell_type": "markdown",
      "source": [
        "#### Modelo 2"
      ],
      "metadata": {
        "id": "zVdrxO1FYYgf"
      }
    },
    {
      "cell_type": "code",
      "source": [
        "# Transforma a variável modelo (nome do modelo) em numeros categoricos\n",
        "df['modelo'] = df['modelo'].astype('category')\n",
        "df['modelo'] = df['modelo'].cat.codes"
      ],
      "metadata": {
        "id": "adcL4yzgSxgK"
      },
      "execution_count": null,
      "outputs": []
    },
    {
      "cell_type": "code",
      "source": [
        "# Segunda abordagem usa todas as variáveis \n",
        "X = df.drop('mpg', axis=1)\n",
        "y = df['mpg']"
      ],
      "metadata": {
        "id": "W8y_7p0qVm6C"
      },
      "execution_count": null,
      "outputs": []
    },
    {
      "cell_type": "code",
      "source": [
        "multiple_linear_model = sm.OLS(y, sm.add_constant(X)).fit()"
      ],
      "metadata": {
        "colab": {
          "base_uri": "https://localhost:8080/"
        },
        "id": "u5BgMut4W3cT",
        "outputId": "e155ffd0-318f-417a-c15f-1307d80905aa"
      },
      "execution_count": null,
      "outputs": [
        {
          "output_type": "stream",
          "name": "stderr",
          "text": [
            "/usr/local/lib/python3.7/dist-packages/statsmodels/tsa/tsatools.py:142: FutureWarning: In a future version of pandas all arguments of concat except for the argument 'objs' will be keyword-only\n",
            "  x = pd.concat(x[::order], 1)\n"
          ]
        }
      ]
    },
    {
      "cell_type": "code",
      "source": [
        "print(multiple_linear_model.summary())"
      ],
      "metadata": {
        "colab": {
          "base_uri": "https://localhost:8080/"
        },
        "id": "OGZllMHSW7p4",
        "outputId": "297209f3-7fc5-4c0c-c9a6-489ba2784cf5"
      },
      "execution_count": null,
      "outputs": [
        {
          "output_type": "stream",
          "name": "stdout",
          "text": [
            "                            OLS Regression Results                            \n",
            "==============================================================================\n",
            "Dep. Variable:                    mpg   R-squared:                       0.870\n",
            "Model:                            OLS   Adj. R-squared:                  0.798\n",
            "Method:                 Least Squares   F-statistic:                     12.13\n",
            "Date:                Tue, 27 Sep 2022   Prob (F-statistic):           1.42e-06\n",
            "Time:                        00:32:20   Log-Likelihood:                -69.776\n",
            "No. Observations:                  32   AIC:                             163.6\n",
            "Df Residuals:                      20   BIC:                             181.1\n",
            "Df Model:                          11                                         \n",
            "Covariance Type:            nonrobust                                         \n",
            "==========================================================================================\n",
            "                             coef    std err          t      P>|t|      [0.025      0.975]\n",
            "------------------------------------------------------------------------------------------\n",
            "const                     12.7147     19.177      0.663      0.515     -27.289      52.718\n",
            "modelo                     0.0191      0.061      0.315      0.756      -0.107       0.145\n",
            "cilindros                 -0.1336      1.071     -0.125      0.902      -2.367       2.099\n",
            "deslocamento               0.0152      0.019      0.792      0.438      -0.025       0.055\n",
            "cavalos                   -0.0227      0.023     -1.005      0.327      -0.070       0.024\n",
            "relacao                    0.7977      1.672      0.477      0.638      -2.690       4.285\n",
            "peso                      -3.7980      1.954     -1.944      0.066      -7.874       0.278\n",
            "tempo_1.4_milha            0.7899      0.754      1.048      0.307      -0.782       2.362\n",
            "motor_em_v                 0.4284      2.180      0.197      0.846      -4.118       4.975\n",
            "transmissao_automatica     2.6145      2.124      1.231      0.233      -1.815       7.044\n",
            "marchas                    0.5893      1.541      0.382      0.706      -2.625       3.803\n",
            "carburadores              -0.1547      0.859     -0.180      0.859      -1.946       1.637\n",
            "==============================================================================\n",
            "Omnibus:                        2.032   Durbin-Watson:                   1.843\n",
            "Prob(Omnibus):                  0.362   Jarque-Bera (JB):                1.789\n",
            "Skew:                           0.551   Prob(JB):                        0.409\n",
            "Kurtosis:                       2.643   Cond. No.                     1.23e+04\n",
            "==============================================================================\n",
            "\n",
            "Notes:\n",
            "[1] Standard Errors assume that the covariance matrix of the errors is correctly specified.\n",
            "[2] The condition number is large, 1.23e+04. This might indicate that there are\n",
            "strong multicollinearity or other numerical problems.\n"
          ]
        }
      ]
    },
    {
      "cell_type": "markdown",
      "source": [
        "#### Modelo 3"
      ],
      "metadata": {
        "id": "DrX6nTfEYVKI"
      }
    },
    {
      "cell_type": "code",
      "source": [
        "df_copy = df.copy"
      ],
      "metadata": {
        "id": "GLNt1FANW-ZA"
      },
      "execution_count": null,
      "outputs": []
    },
    {
      "cell_type": "code",
      "source": [
        "# Terceira abordagem. Transforma as variáveis peso, deslocamento e cavalos usando log.\n",
        "import numpy as np\n",
        "df['peso'] = np.log(df['peso'])\n",
        "df['deslocamento'] = np.log(df['deslocamento'])\n",
        "df['cavalos'] = np.log(df['cavalos'])"
      ],
      "metadata": {
        "id": "dSaHeAVSXIzV"
      },
      "execution_count": null,
      "outputs": []
    },
    {
      "cell_type": "code",
      "source": [
        "# Continuo usando todas as variáveis\n",
        "X = df.drop('mpg', axis=1)\n",
        "y = df['mpg']"
      ],
      "metadata": {
        "id": "_6ez6YEtXwzx"
      },
      "execution_count": null,
      "outputs": []
    },
    {
      "cell_type": "code",
      "source": [
        "multiple_linear_model = sm.OLS(y, sm.add_constant(X)).fit()"
      ],
      "metadata": {
        "colab": {
          "base_uri": "https://localhost:8080/"
        },
        "id": "zVsbkFEoX-ay",
        "outputId": "f24a1d25-3641-4a94-e8a1-b9c18b1a0247"
      },
      "execution_count": null,
      "outputs": [
        {
          "output_type": "stream",
          "name": "stderr",
          "text": [
            "/usr/local/lib/python3.7/dist-packages/statsmodels/tsa/tsatools.py:142: FutureWarning: In a future version of pandas all arguments of concat except for the argument 'objs' will be keyword-only\n",
            "  x = pd.concat(x[::order], 1)\n"
          ]
        }
      ]
    },
    {
      "cell_type": "code",
      "source": [
        "print(multiple_linear_model.summary())"
      ],
      "metadata": {
        "colab": {
          "base_uri": "https://localhost:8080/"
        },
        "id": "ZNqKIm6wYAlT",
        "outputId": "99df807c-1fe8-4236-d86a-dd16c5e97fc5"
      },
      "execution_count": null,
      "outputs": [
        {
          "output_type": "stream",
          "name": "stdout",
          "text": [
            "                            OLS Regression Results                            \n",
            "==============================================================================\n",
            "Dep. Variable:                    mpg   R-squared:                       0.903\n",
            "Model:                            OLS   Adj. R-squared:                  0.849\n",
            "Method:                 Least Squares   F-statistic:                     16.90\n",
            "Date:                Tue, 27 Sep 2022   Prob (F-statistic):           8.68e-08\n",
            "Time:                        00:37:01   Log-Likelihood:                -65.067\n",
            "No. Observations:                  32   AIC:                             154.1\n",
            "Df Residuals:                      20   BIC:                             171.7\n",
            "Df Model:                          11                                         \n",
            "Covariance Type:            nonrobust                                         \n",
            "==========================================================================================\n",
            "                             coef    std err          t      P>|t|      [0.025      0.975]\n",
            "------------------------------------------------------------------------------------------\n",
            "const                     37.3191     24.793      1.505      0.148     -14.397      89.035\n",
            "modelo                     0.0188      0.050      0.375      0.712      -0.086       0.123\n",
            "cilindros                  0.8390      0.956      0.878      0.390      -1.154       2.832\n",
            "deslocamento              -1.6792      3.784     -0.444      0.662      -9.573       6.215\n",
            "cavalos                   -3.6858      2.891     -1.275      0.217      -9.715       2.344\n",
            "relacao                    0.1111      1.479      0.075      0.941      -2.974       3.196\n",
            "peso                      -9.5735      5.121     -1.869      0.076     -20.256       1.109\n",
            "tempo_1.4_milha            0.5988      0.684      0.876      0.391      -0.827       2.025\n",
            "motor_em_v                -0.2443      1.840     -0.133      0.896      -4.082       3.593\n",
            "transmissao_automatica     0.9302      1.981      0.470      0.644      -3.202       5.062\n",
            "marchas                    1.3076      1.371      0.954      0.352      -1.553       4.168\n",
            "carburadores              -0.4564      0.644     -0.708      0.487      -1.801       0.888\n",
            "==============================================================================\n",
            "Omnibus:                        3.245   Durbin-Watson:                   1.971\n",
            "Prob(Omnibus):                  0.197   Jarque-Bera (JB):                2.815\n",
            "Skew:                           0.713   Prob(JB):                        0.245\n",
            "Kurtosis:                       2.716   Cond. No.                     1.63e+03\n",
            "==============================================================================\n",
            "\n",
            "Notes:\n",
            "[1] Standard Errors assume that the covariance matrix of the errors is correctly specified.\n",
            "[2] The condition number is large, 1.63e+03. This might indicate that there are\n",
            "strong multicollinearity or other numerical problems.\n"
          ]
        }
      ]
    },
    {
      "cell_type": "markdown",
      "source": [
        "#### Modelo 4 "
      ],
      "metadata": {
        "id": "fbyAO3YxY0oa"
      }
    },
    {
      "cell_type": "code",
      "source": [
        "# Aplica log na variável tempo_1.4_milha \n",
        "df['tempo_1.4_milha'] = np.log(df['tempo_1.4_milha'])"
      ],
      "metadata": {
        "id": "6jInkBhYYC7U"
      },
      "execution_count": null,
      "outputs": []
    },
    {
      "cell_type": "code",
      "source": [
        "# Continuo usando todas as variáveis\n",
        "X = df[['tempo_1.4_milha', 'cavalos', 'deslocamento', 'peso']]\n",
        "y = df['mpg']"
      ],
      "metadata": {
        "id": "3BHNgDwnZHj3"
      },
      "execution_count": null,
      "outputs": []
    },
    {
      "cell_type": "code",
      "source": [
        "multiple_linear_model = sm.OLS(y, sm.add_constant(X)).fit()"
      ],
      "metadata": {
        "colab": {
          "base_uri": "https://localhost:8080/"
        },
        "id": "6dInC3eZZHny",
        "outputId": "07c149be-ff5a-4486-ff83-57e7abf449d9"
      },
      "execution_count": null,
      "outputs": [
        {
          "output_type": "stream",
          "name": "stderr",
          "text": [
            "/usr/local/lib/python3.7/dist-packages/statsmodels/tsa/tsatools.py:142: FutureWarning: In a future version of pandas all arguments of concat except for the argument 'objs' will be keyword-only\n",
            "  x = pd.concat(x[::order], 1)\n"
          ]
        }
      ]
    },
    {
      "cell_type": "code",
      "source": [
        "print(multiple_linear_model.summary())"
      ],
      "metadata": {
        "colab": {
          "base_uri": "https://localhost:8080/"
        },
        "id": "o00P6560ZHrk",
        "outputId": "69d55999-9937-4784-813c-99a9efea6a2e"
      },
      "execution_count": null,
      "outputs": [
        {
          "output_type": "stream",
          "name": "stdout",
          "text": [
            "                            OLS Regression Results                            \n",
            "==============================================================================\n",
            "Dep. Variable:                    mpg   R-squared:                       0.892\n",
            "Model:                            OLS   Adj. R-squared:                  0.876\n",
            "Method:                 Least Squares   F-statistic:                     55.67\n",
            "Date:                Tue, 27 Sep 2022   Prob (F-statistic):           1.19e-12\n",
            "Time:                        00:45:00   Log-Likelihood:                -66.789\n",
            "No. Observations:                  32   AIC:                             143.6\n",
            "Df Residuals:                      27   BIC:                             150.9\n",
            "Df Model:                           4                                         \n",
            "Covariance Type:            nonrobust                                         \n",
            "===================================================================================\n",
            "                      coef    std err          t      P>|t|      [0.025      0.975]\n",
            "-----------------------------------------------------------------------------------\n",
            "const              40.6455     30.078      1.351      0.188     -21.069     102.360\n",
            "tempo_1.4_milha     4.9515      7.465      0.663      0.513     -10.366      20.269\n",
            "cavalos            -3.3273      2.304     -1.444      0.160      -8.054       1.399\n",
            "deslocamento       -1.1104      2.087     -0.532      0.599      -5.392       3.172\n",
            "peso              -11.3121      3.544     -3.192      0.004     -18.585      -4.040\n",
            "==============================================================================\n",
            "Omnibus:                        3.781   Durbin-Watson:                   2.103\n",
            "Prob(Omnibus):                  0.151   Jarque-Bera (JB):                3.017\n",
            "Skew:                           0.752   Prob(JB):                        0.221\n",
            "Kurtosis:                       2.973   Cond. No.                         657.\n",
            "==============================================================================\n",
            "\n",
            "Notes:\n",
            "[1] Standard Errors assume that the covariance matrix of the errors is correctly specified.\n"
          ]
        }
      ]
    },
    {
      "cell_type": "markdown",
      "source": [
        "#### Modelo 5"
      ],
      "metadata": {
        "id": "gjybiQUSa-7p"
      }
    },
    {
      "cell_type": "code",
      "source": [
        "# Monta variáveis de razão entre peso e outras variáveis \n",
        "df['relacao_peso_potencia'] = df['peso']/df['cavalos']\n",
        "df['relacao_peso_carb'] = df['peso']/df['carburadores']\n",
        "df['relacao_peso_cilindros'] = df['peso']/df['cilindros']"
      ],
      "metadata": {
        "id": "4NK7HMD3XhnQ"
      },
      "execution_count": null,
      "outputs": []
    },
    {
      "cell_type": "code",
      "source": [
        "# Continuo usando todas as variáveis\n",
        "X = df[['tempo_1.4_milha', 'cavalos', 'deslocamento', 'peso', 'relacao_peso_potencia', 'relacao_peso_carb', 'relacao_peso_cilindros']]\n",
        "y = df['mpg']"
      ],
      "metadata": {
        "id": "atc7qmzVbDUG"
      },
      "execution_count": null,
      "outputs": []
    },
    {
      "cell_type": "code",
      "source": [
        "df.sample(2)"
      ],
      "metadata": {
        "colab": {
          "base_uri": "https://localhost:8080/",
          "height": 176
        },
        "id": "inj03kKSa0xg",
        "outputId": "eda39e2a-bcb9-407f-ba2b-a426014fb4fe"
      },
      "execution_count": null,
      "outputs": [
        {
          "output_type": "execute_result",
          "data": {
            "text/plain": [
              "    modelo   mpg  cilindros  deslocamento   cavalos  relacao      peso  \\\n",
              "20      29  21.5          4      4.788325  4.574711     3.70  0.902192   \n",
              "25       9  27.3          4      4.369448  4.189655     4.08  0.660107   \n",
              "\n",
              "    tempo_1.4_milha  motor_em_v  transmissao_automatica  marchas  \\\n",
              "20         2.996232           1                       0        3   \n",
              "25         2.939162           1                       1        4   \n",
              "\n",
              "    carburadores  relacao_peso_potencia  relacao_peso_carb  \\\n",
              "20             1               0.197213           0.902192   \n",
              "25             1               0.157556           0.660107   \n",
              "\n",
              "    relacao_peso_cilindros  \n",
              "20                0.225548  \n",
              "25                0.165027  "
            ],
            "text/html": [
              "\n",
              "  <div id=\"df-b96be92a-88d0-4c57-a9fe-3a75945dbe88\">\n",
              "    <div class=\"colab-df-container\">\n",
              "      <div>\n",
              "<style scoped>\n",
              "    .dataframe tbody tr th:only-of-type {\n",
              "        vertical-align: middle;\n",
              "    }\n",
              "\n",
              "    .dataframe tbody tr th {\n",
              "        vertical-align: top;\n",
              "    }\n",
              "\n",
              "    .dataframe thead th {\n",
              "        text-align: right;\n",
              "    }\n",
              "</style>\n",
              "<table border=\"1\" class=\"dataframe\">\n",
              "  <thead>\n",
              "    <tr style=\"text-align: right;\">\n",
              "      <th></th>\n",
              "      <th>modelo</th>\n",
              "      <th>mpg</th>\n",
              "      <th>cilindros</th>\n",
              "      <th>deslocamento</th>\n",
              "      <th>cavalos</th>\n",
              "      <th>relacao</th>\n",
              "      <th>peso</th>\n",
              "      <th>tempo_1.4_milha</th>\n",
              "      <th>motor_em_v</th>\n",
              "      <th>transmissao_automatica</th>\n",
              "      <th>marchas</th>\n",
              "      <th>carburadores</th>\n",
              "      <th>relacao_peso_potencia</th>\n",
              "      <th>relacao_peso_carb</th>\n",
              "      <th>relacao_peso_cilindros</th>\n",
              "    </tr>\n",
              "  </thead>\n",
              "  <tbody>\n",
              "    <tr>\n",
              "      <th>20</th>\n",
              "      <td>29</td>\n",
              "      <td>21.5</td>\n",
              "      <td>4</td>\n",
              "      <td>4.788325</td>\n",
              "      <td>4.574711</td>\n",
              "      <td>3.70</td>\n",
              "      <td>0.902192</td>\n",
              "      <td>2.996232</td>\n",
              "      <td>1</td>\n",
              "      <td>0</td>\n",
              "      <td>3</td>\n",
              "      <td>1</td>\n",
              "      <td>0.197213</td>\n",
              "      <td>0.902192</td>\n",
              "      <td>0.225548</td>\n",
              "    </tr>\n",
              "    <tr>\n",
              "      <th>25</th>\n",
              "      <td>9</td>\n",
              "      <td>27.3</td>\n",
              "      <td>4</td>\n",
              "      <td>4.369448</td>\n",
              "      <td>4.189655</td>\n",
              "      <td>4.08</td>\n",
              "      <td>0.660107</td>\n",
              "      <td>2.939162</td>\n",
              "      <td>1</td>\n",
              "      <td>1</td>\n",
              "      <td>4</td>\n",
              "      <td>1</td>\n",
              "      <td>0.157556</td>\n",
              "      <td>0.660107</td>\n",
              "      <td>0.165027</td>\n",
              "    </tr>\n",
              "  </tbody>\n",
              "</table>\n",
              "</div>\n",
              "      <button class=\"colab-df-convert\" onclick=\"convertToInteractive('df-b96be92a-88d0-4c57-a9fe-3a75945dbe88')\"\n",
              "              title=\"Convert this dataframe to an interactive table.\"\n",
              "              style=\"display:none;\">\n",
              "        \n",
              "  <svg xmlns=\"http://www.w3.org/2000/svg\" height=\"24px\"viewBox=\"0 0 24 24\"\n",
              "       width=\"24px\">\n",
              "    <path d=\"M0 0h24v24H0V0z\" fill=\"none\"/>\n",
              "    <path d=\"M18.56 5.44l.94 2.06.94-2.06 2.06-.94-2.06-.94-.94-2.06-.94 2.06-2.06.94zm-11 1L8.5 8.5l.94-2.06 2.06-.94-2.06-.94L8.5 2.5l-.94 2.06-2.06.94zm10 10l.94 2.06.94-2.06 2.06-.94-2.06-.94-.94-2.06-.94 2.06-2.06.94z\"/><path d=\"M17.41 7.96l-1.37-1.37c-.4-.4-.92-.59-1.43-.59-.52 0-1.04.2-1.43.59L10.3 9.45l-7.72 7.72c-.78.78-.78 2.05 0 2.83L4 21.41c.39.39.9.59 1.41.59.51 0 1.02-.2 1.41-.59l7.78-7.78 2.81-2.81c.8-.78.8-2.07 0-2.86zM5.41 20L4 18.59l7.72-7.72 1.47 1.35L5.41 20z\"/>\n",
              "  </svg>\n",
              "      </button>\n",
              "      \n",
              "  <style>\n",
              "    .colab-df-container {\n",
              "      display:flex;\n",
              "      flex-wrap:wrap;\n",
              "      gap: 12px;\n",
              "    }\n",
              "\n",
              "    .colab-df-convert {\n",
              "      background-color: #E8F0FE;\n",
              "      border: none;\n",
              "      border-radius: 50%;\n",
              "      cursor: pointer;\n",
              "      display: none;\n",
              "      fill: #1967D2;\n",
              "      height: 32px;\n",
              "      padding: 0 0 0 0;\n",
              "      width: 32px;\n",
              "    }\n",
              "\n",
              "    .colab-df-convert:hover {\n",
              "      background-color: #E2EBFA;\n",
              "      box-shadow: 0px 1px 2px rgba(60, 64, 67, 0.3), 0px 1px 3px 1px rgba(60, 64, 67, 0.15);\n",
              "      fill: #174EA6;\n",
              "    }\n",
              "\n",
              "    [theme=dark] .colab-df-convert {\n",
              "      background-color: #3B4455;\n",
              "      fill: #D2E3FC;\n",
              "    }\n",
              "\n",
              "    [theme=dark] .colab-df-convert:hover {\n",
              "      background-color: #434B5C;\n",
              "      box-shadow: 0px 1px 3px 1px rgba(0, 0, 0, 0.15);\n",
              "      filter: drop-shadow(0px 1px 2px rgba(0, 0, 0, 0.3));\n",
              "      fill: #FFFFFF;\n",
              "    }\n",
              "  </style>\n",
              "\n",
              "      <script>\n",
              "        const buttonEl =\n",
              "          document.querySelector('#df-b96be92a-88d0-4c57-a9fe-3a75945dbe88 button.colab-df-convert');\n",
              "        buttonEl.style.display =\n",
              "          google.colab.kernel.accessAllowed ? 'block' : 'none';\n",
              "\n",
              "        async function convertToInteractive(key) {\n",
              "          const element = document.querySelector('#df-b96be92a-88d0-4c57-a9fe-3a75945dbe88');\n",
              "          const dataTable =\n",
              "            await google.colab.kernel.invokeFunction('convertToInteractive',\n",
              "                                                     [key], {});\n",
              "          if (!dataTable) return;\n",
              "\n",
              "          const docLinkHtml = 'Like what you see? Visit the ' +\n",
              "            '<a target=\"_blank\" href=https://colab.research.google.com/notebooks/data_table.ipynb>data table notebook</a>'\n",
              "            + ' to learn more about interactive tables.';\n",
              "          element.innerHTML = '';\n",
              "          dataTable['output_type'] = 'display_data';\n",
              "          await google.colab.output.renderOutput(dataTable, element);\n",
              "          const docLink = document.createElement('div');\n",
              "          docLink.innerHTML = docLinkHtml;\n",
              "          element.appendChild(docLink);\n",
              "        }\n",
              "      </script>\n",
              "    </div>\n",
              "  </div>\n",
              "  "
            ]
          },
          "metadata": {},
          "execution_count": 64
        }
      ]
    },
    {
      "cell_type": "code",
      "source": [
        "multiple_linear_model = sm.OLS(y, sm.add_constant(X)).fit()"
      ],
      "metadata": {
        "colab": {
          "base_uri": "https://localhost:8080/"
        },
        "id": "z3_iHHDaa6tD",
        "outputId": "78f42ece-b190-4b0c-8927-c3596229bf5c"
      },
      "execution_count": null,
      "outputs": [
        {
          "output_type": "stream",
          "name": "stderr",
          "text": [
            "/usr/local/lib/python3.7/dist-packages/statsmodels/tsa/tsatools.py:142: FutureWarning: In a future version of pandas all arguments of concat except for the argument 'objs' will be keyword-only\n",
            "  x = pd.concat(x[::order], 1)\n"
          ]
        }
      ]
    },
    {
      "cell_type": "code",
      "source": [
        "print(multiple_linear_model.summary())"
      ],
      "metadata": {
        "colab": {
          "base_uri": "https://localhost:8080/"
        },
        "id": "vhKWjlsDbLjD",
        "outputId": "6437dd0d-dd46-4686-b169-e64e6d29d0a6"
      },
      "execution_count": null,
      "outputs": [
        {
          "output_type": "stream",
          "name": "stdout",
          "text": [
            "                            OLS Regression Results                            \n",
            "==============================================================================\n",
            "Dep. Variable:                    mpg   R-squared:                       0.893\n",
            "Model:                            OLS   Adj. R-squared:                  0.862\n",
            "Method:                 Least Squares   F-statistic:                     28.76\n",
            "Date:                Tue, 27 Sep 2022   Prob (F-statistic):           3.46e-10\n",
            "Time:                        00:50:55   Log-Likelihood:                -66.544\n",
            "No. Observations:                  32   AIC:                             149.1\n",
            "Df Residuals:                      24   BIC:                             160.8\n",
            "Df Model:                           7                                         \n",
            "Covariance Type:            nonrobust                                         \n",
            "==========================================================================================\n",
            "                             coef    std err          t      P>|t|      [0.025      0.975]\n",
            "------------------------------------------------------------------------------------------\n",
            "const                     49.6520     44.244      1.122      0.273     -41.662     140.966\n",
            "tempo_1.4_milha            5.2727      9.826      0.537      0.596     -15.007      25.552\n",
            "cavalos                   -5.0807      4.978     -1.021      0.318     -15.354       5.193\n",
            "deslocamento              -1.4574      2.930     -0.497      0.623      -7.504       4.589\n",
            "peso                      -2.4271     20.342     -0.119      0.906     -44.411      39.557\n",
            "relacao_peso_potencia    -39.3259    101.442     -0.388      0.702    -248.691     170.039\n",
            "relacao_peso_carb          0.0299      2.270      0.013      0.990      -4.654       4.714\n",
            "relacao_peso_cilindros    -3.1498     20.904     -0.151      0.881     -46.293      39.993\n",
            "==============================================================================\n",
            "Omnibus:                        2.630   Durbin-Watson:                   2.209\n",
            "Prob(Omnibus):                  0.268   Jarque-Bera (JB):                2.309\n",
            "Skew:                           0.634   Prob(JB):                        0.315\n",
            "Kurtosis:                       2.650   Cond. No.                     2.17e+03\n",
            "==============================================================================\n",
            "\n",
            "Notes:\n",
            "[1] Standard Errors assume that the covariance matrix of the errors is correctly specified.\n",
            "[2] The condition number is large, 2.17e+03. This might indicate that there are\n",
            "strong multicollinearity or other numerical problems.\n"
          ]
        }
      ]
    },
    {
      "cell_type": "code",
      "source": [
        "# Continuo usando todas as variáveis\n",
        "X = df.drop('mpg', axis=1)\n",
        "y = df['mpg']"
      ],
      "metadata": {
        "id": "AlciP_iIbOlA"
      },
      "execution_count": null,
      "outputs": []
    },
    {
      "cell_type": "code",
      "source": [
        "multiple_linear_model = sm.OLS(y, sm.add_constant(X)).fit()"
      ],
      "metadata": {
        "id": "YyZiE4yJbcNi",
        "outputId": "f7d13511-6b79-463f-d485-76620d50a5e6",
        "colab": {
          "base_uri": "https://localhost:8080/"
        }
      },
      "execution_count": null,
      "outputs": [
        {
          "output_type": "stream",
          "name": "stderr",
          "text": [
            "/usr/local/lib/python3.7/dist-packages/statsmodels/tsa/tsatools.py:142: FutureWarning: In a future version of pandas all arguments of concat except for the argument 'objs' will be keyword-only\n",
            "  x = pd.concat(x[::order], 1)\n"
          ]
        }
      ]
    },
    {
      "cell_type": "code",
      "source": [
        "print(multiple_linear_model.summary())"
      ],
      "metadata": {
        "id": "hUFQ47o_bgd1",
        "outputId": "ff5ee93a-cb4a-4cb5-bc14-29bf3cb097d4",
        "colab": {
          "base_uri": "https://localhost:8080/"
        }
      },
      "execution_count": null,
      "outputs": [
        {
          "output_type": "stream",
          "name": "stdout",
          "text": [
            "                            OLS Regression Results                            \n",
            "==============================================================================\n",
            "Dep. Variable:                    mpg   R-squared:                       0.908\n",
            "Model:                            OLS   Adj. R-squared:                  0.832\n",
            "Method:                 Least Squares   F-statistic:                     11.94\n",
            "Date:                Tue, 27 Sep 2022   Prob (F-statistic):           3.74e-06\n",
            "Time:                        00:52:18   Log-Likelihood:                -64.260\n",
            "No. Observations:                  32   AIC:                             158.5\n",
            "Df Residuals:                      17   BIC:                             180.5\n",
            "Df Model:                          14                                         \n",
            "Covariance Type:            nonrobust                                         \n",
            "==========================================================================================\n",
            "                             coef    std err          t      P>|t|      [0.025      0.975]\n",
            "------------------------------------------------------------------------------------------\n",
            "const                     58.1270     88.424      0.657      0.520    -128.432     244.686\n",
            "modelo                     0.0304      0.056      0.543      0.594      -0.088       0.148\n",
            "cilindros                  0.9363      2.670      0.351      0.730      -4.696       6.569\n",
            "deslocamento              -1.9725      4.159     -0.474      0.641     -10.748       6.803\n",
            "cavalos                  -10.0091     11.746     -0.852      0.406     -34.791      14.773\n",
            "relacao                   -0.5057      2.367     -0.214      0.833      -5.499       4.488\n",
            "peso                      17.8201     37.194      0.479      0.638     -60.653      96.293\n",
            "tempo_1.4_milha            6.6051     16.808      0.393      0.699     -28.857      42.067\n",
            "motor_em_v                -0.1454      2.434     -0.060      0.953      -5.280       4.989\n",
            "transmissao_automatica    -0.1189      2.615     -0.045      0.964      -5.636       5.398\n",
            "marchas                    2.2380      1.812      1.235      0.234      -1.585       6.062\n",
            "carburadores              -0.4907      0.806     -0.609      0.551      -2.191       1.209\n",
            "relacao_peso_potencia   -134.6862    222.939     -0.604      0.554    -605.047     335.675\n",
            "relacao_peso_carb          0.5888      4.037      0.146      0.886      -7.928       9.105\n",
            "relacao_peso_cilindros     7.3554     76.280      0.096      0.924    -153.581     168.292\n",
            "==============================================================================\n",
            "Omnibus:                        2.698   Durbin-Watson:                   2.114\n",
            "Prob(Omnibus):                  0.259   Jarque-Bera (JB):                2.441\n",
            "Skew:                           0.628   Prob(JB):                        0.295\n",
            "Kurtosis:                       2.494   Cond. No.                     1.17e+04\n",
            "==============================================================================\n",
            "\n",
            "Notes:\n",
            "[1] Standard Errors assume that the covariance matrix of the errors is correctly specified.\n",
            "[2] The condition number is large, 1.17e+04. This might indicate that there are\n",
            "strong multicollinearity or other numerical problems.\n"
          ]
        }
      ]
    },
    {
      "cell_type": "code",
      "source": [],
      "metadata": {
        "id": "4Bj1311Ubi04"
      },
      "execution_count": null,
      "outputs": []
    }
  ]
}