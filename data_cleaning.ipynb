{
  "cells": [
    {
      "cell_type": "markdown",
      "metadata": {
        "id": "view-in-github",
        "colab_type": "text"
      },
      "source": [
        "<a href=\"https://colab.research.google.com/github/diego-andrade279/Aula-de-deploy-de-modelos-de-machine-learning-usando-streamlit/blob/main/data_cleaning.ipynb\" target=\"_parent\"><img src=\"https://colab.research.google.com/assets/colab-badge.svg\" alt=\"Open In Colab\"/></a>"
      ]
    },
    {
      "cell_type": "markdown",
      "id": "5695f9c4-1a15-41a7-8dea-0d1ed77b0eb8",
      "metadata": {
        "id": "5695f9c4-1a15-41a7-8dea-0d1ed77b0eb8"
      },
      "source": [
        "# Data Cleaning (Limpeza de Dados)"
      ]
    },
    {
      "cell_type": "code",
      "execution_count": null,
      "id": "6f637b33-63ea-44cb-acdd-b393b7b391b0",
      "metadata": {
        "tags": [],
        "id": "6f637b33-63ea-44cb-acdd-b393b7b391b0"
      },
      "outputs": [],
      "source": [
        "import pandas as pd\n",
        "\n",
        "# configuração para melhorar a exibição dos dados\n",
        "pd.set_option('display.max_rows', 500)\n",
        "pd.set_option('display.max_columns', 500)\n",
        "pd.set_option('display.width', 1000)"
      ]
    },
    {
      "cell_type": "markdown",
      "id": "bbd03dc2-734d-4fdb-9743-ad38a374d6dc",
      "metadata": {
        "tags": [],
        "id": "bbd03dc2-734d-4fdb-9743-ad38a374d6dc"
      },
      "source": [
        "### Etapa 1 - Carregamento dos dados"
      ]
    },
    {
      "cell_type": "code",
      "execution_count": null,
      "id": "74e9c4fa-4a0c-4363-b6f0-7fb5e537325d",
      "metadata": {
        "id": "74e9c4fa-4a0c-4363-b6f0-7fb5e537325d"
      },
      "outputs": [],
      "source": [
        "df = pd.read_csv('http://www.edsonmelo.com.br/datasets/dados_alunos.csv')"
      ]
    },
    {
      "cell_type": "markdown",
      "id": "0d72c69e-3a6a-4b88-a547-decf0fa19d54",
      "metadata": {
        "tags": [],
        "id": "0d72c69e-3a6a-4b88-a547-decf0fa19d54"
      },
      "source": [
        "### Etapa 2 - Analisando o DataFrame"
      ]
    },
    {
      "cell_type": "code",
      "execution_count": null,
      "id": "3f4c5b51-127f-4116-b650-c5a79dfd0d8c",
      "metadata": {
        "id": "3f4c5b51-127f-4116-b650-c5a79dfd0d8c"
      },
      "outputs": [],
      "source": [
        "df.head()"
      ]
    },
    {
      "cell_type": "code",
      "execution_count": null,
      "id": "e97ec0e2-091c-47fd-ac96-90753f6628f9",
      "metadata": {
        "id": "e97ec0e2-091c-47fd-ac96-90753f6628f9"
      },
      "outputs": [],
      "source": [
        "df.info()"
      ]
    },
    {
      "cell_type": "markdown",
      "id": "ad3f33fa-74ea-450b-8b32-a6d7143534a5",
      "metadata": {
        "tags": [],
        "id": "ad3f33fa-74ea-450b-8b32-a6d7143534a5"
      },
      "source": [
        "### Etapa 3 - Verificando dados nulos `NaN`"
      ]
    },
    {
      "cell_type": "markdown",
      "id": "baa84faa-adf7-4c83-ad3d-2ec128309def",
      "metadata": {
        "id": "baa84faa-adf7-4c83-ad3d-2ec128309def"
      },
      "source": [
        "Analisando os dados acima, vemos que o campo `estrutura` possui valores nulos.\n",
        "\n",
        "No primeiro momento podemos pensar em excluir esses dados, mas poderia interferir em análises posteriores.\n",
        "\n",
        "Por esse motivo vamos preencher os dados de `modalidade` com _`Genérico-Genérica`_."
      ]
    },
    {
      "cell_type": "code",
      "execution_count": null,
      "id": "d3e3eb36-2968-4601-9919-16c1e722d22b",
      "metadata": {
        "tags": [],
        "id": "d3e3eb36-2968-4601-9919-16c1e722d22b"
      },
      "outputs": [],
      "source": [
        "df[df.modalidade.isnull()]"
      ]
    },
    {
      "cell_type": "code",
      "execution_count": null,
      "id": "f23ae42c-173b-4266-92f4-5eff1902d7fb",
      "metadata": {
        "tags": [],
        "id": "f23ae42c-173b-4266-92f4-5eff1902d7fb"
      },
      "outputs": [],
      "source": [
        "# Preenchendo com valores padrão o campo com valores NaN\n",
        "df.loc[df.modalidade.isnull(),'modalidade']='Genérico-Genérica'\n",
        "df.info()"
      ]
    },
    {
      "cell_type": "markdown",
      "id": "52c673e0-3ec5-47ab-937b-15b5e9963938",
      "metadata": {
        "tags": [],
        "id": "52c673e0-3ec5-47ab-937b-15b5e9963938"
      },
      "source": [
        "### Etapa 4 - Análise da Cardinalidade"
      ]
    },
    {
      "cell_type": "markdown",
      "id": "77c0d817-f011-4677-ac47-4257d69c4ca9",
      "metadata": {
        "id": "77c0d817-f011-4677-ac47-4257d69c4ca9"
      },
      "source": [
        "Podemos verificar que a cardinalidade é alta, o que exige tratamento dos dados. Como em todo trabalho de Ciência de Dados, é preciso conhecer o que representa o `dataset` e seus campos. A seguir é descrita a representação de cada coluna.\n",
        "\n",
        "- `identificador`\n",
        "        - Matricula\n",
        "        - Campus em que está matriculado\n",
        "            - VG: Vergueiro\n",
        "            - VM: Vila Maria\n",
        "            - VP: Vila Prudente\n",
        "            - SA: Santo Amaro\n",
        "            - MM: Memorial\n",
        "        - Ano de ingresso na universidade\n",
        "        \n",
        "- `cursosem`\n",
        "    - Nome do curso em que está matriculado\n",
        "        - TADS: Tecnologia em Análise e Desenvolvimento de Sistemas\n",
        "        - TRC: Tecnologia em Redes de Computadores\n",
        "        - TBD: Tecnologia em Banco de Dados\n",
        "        - TGTI: Tecnologia em Gestão da Tecnologia da Informação\n",
        "        - CC: Bacharelado em Ciências da Computação\n",
        "        - SI: Bacharelado em Sistemas de Informação\n",
        "    - Semestre que está cursando\n",
        "- `modalidade`:  tipo do curso em que está matriculado\n",
        "    - Presencial (PRES)\n",
        "        - Mod: Modular\n",
        "        - Seq: Sequencial\n",
        "     - EaD (A Distância)\n",
        "        - Mod: Modular\n",
        "        - Seq: Sequencial\n",
        "- `bolsista`: se possui algum tipo de bolsa de estudos\n",
        "- `chipvivo`: se retirou o chip para acesso ao Telepresencial"
      ]
    },
    {
      "cell_type": "code",
      "execution_count": null,
      "id": "bc0539e6-17a8-4f9d-be92-231ba7572cc2",
      "metadata": {
        "id": "bc0539e6-17a8-4f9d-be92-231ba7572cc2"
      },
      "outputs": [],
      "source": [
        "# analisando a cardinalidade dos dados utilizando o campo chipvivo como parâmetro\n",
        "df.groupby([\"chipvivo\",\"identificador\"])[\"chipvivo\"].count()"
      ]
    },
    {
      "cell_type": "markdown",
      "id": "d144b899-5108-496a-984d-76044b22d4fa",
      "metadata": {
        "tags": [],
        "id": "d144b899-5108-496a-984d-76044b22d4fa"
      },
      "source": [
        "### Etapa 5 - Iniciando o tratamento dos dados"
      ]
    },
    {
      "cell_type": "markdown",
      "id": "ace03854-6ac8-4ccb-bc13-f8b305c17831",
      "metadata": {
        "id": "ace03854-6ac8-4ccb-bc13-f8b305c17831"
      },
      "source": [
        "Não existe uma regra definida por onde começar o tratamento de dados. Entretanto, é indicado que inicialmente seja, procurados padrões nos dados. Isso pode ser feito de maneira intutiva ou então com o auxílio de algum código. Vamos iniciar nosso estudo realizando a separação dos dados que estão agregados nas colunas. Para isso podemos usar o fatiamento de listas."
      ]
    },
    {
      "cell_type": "code",
      "execution_count": null,
      "id": "5c42f163-eefc-4494-8b4b-dafc5dc29f16",
      "metadata": {
        "id": "5c42f163-eefc-4494-8b4b-dafc5dc29f16"
      },
      "outputs": [],
      "source": [
        "# Primeiro vamos verificar os dados apenas da coluna 'indetificador' para analisar o padrão\n",
        "df.identificador.sample(10)"
      ]
    },
    {
      "cell_type": "code",
      "execution_count": null,
      "id": "7ceb5619-6a20-4aa8-a5b7-0927a7b3b662",
      "metadata": {
        "id": "7ceb5619-6a20-4aa8-a5b7-0927a7b3b662"
      },
      "outputs": [],
      "source": [
        "# Pegando a primeira linha para testar\n",
        "df.identificador.head(1)"
      ]
    },
    {
      "cell_type": "code",
      "execution_count": null,
      "id": "7633bb3d-f824-4e4e-bc28-6252113b91ae",
      "metadata": {
        "id": "7633bb3d-f824-4e4e-bc28-6252113b91ae"
      },
      "outputs": [],
      "source": [
        "# Analisando os valores acima é possível determinar que os dados estão dividos em posições determinadas pelo tamanho. Vejamos:\n",
        "\n",
        "valor = '68C2A2643CSA2019'\n",
        "print('Matrícula:', valor[0:10]) # lembre-se que o limite suprior não é inclusivo (não conta)\n",
        "print('Campus:', valor[10:12])\n",
        "print('Ingresso:', valor[-4:])"
      ]
    },
    {
      "cell_type": "code",
      "execution_count": null,
      "id": "acced1b6-e9bd-4529-8f44-cbb3672d29fa",
      "metadata": {
        "id": "acced1b6-e9bd-4529-8f44-cbb3672d29fa"
      },
      "outputs": [],
      "source": [
        "# Agora que identificamos o padrão, vamos criar novas colunas com os dados separados\n",
        "df['matricula'] = df.identificador.str[0:10]\n",
        "df['campus'] = df.identificador.str[10:12]\n",
        "df['ingresso'] = df.identificador.str[-4:]"
      ]
    },
    {
      "cell_type": "code",
      "execution_count": null,
      "id": "f3265eab-9f48-448a-9600-2fe7a47550a8",
      "metadata": {
        "id": "f3265eab-9f48-448a-9600-2fe7a47550a8"
      },
      "outputs": [],
      "source": [
        "# Vamos verificar a cardinalidade novamente usando \"campus\" para saber os alunos que retiraram o chip\n",
        "# Perceba que MM é o campus com mais alunos que retiraram o chip.\n",
        "# Isso não era possível antes da separaçao dos dados\n",
        "df.groupby([\"chipvivo\",\"campus\"])[\"chipvivo\"].count()"
      ]
    },
    {
      "cell_type": "code",
      "execution_count": null,
      "id": "f737a966-f134-4721-9b40-b427e53705e9",
      "metadata": {
        "id": "f737a966-f134-4721-9b40-b427e53705e9"
      },
      "outputs": [],
      "source": [
        "# Vamos agora separar o campo \"curso\" usando a mesma lógica anterior.\n",
        "# Como o último valor é um número, isso indica que é o semestre.\n",
        "# Cuidado com o nome do campo para não sobrepor os dados.\n",
        "df['curso'] = df.cursosem.str[:-1]\n",
        "df['semestre'] = df.cursosem.str[-1:]\n",
        "df.head()"
      ]
    },
    {
      "cell_type": "code",
      "execution_count": null,
      "id": "f70a9bc0-fa86-4f03-93d2-d3381cccc1df",
      "metadata": {
        "id": "f70a9bc0-fa86-4f03-93d2-d3381cccc1df"
      },
      "outputs": [],
      "source": [
        "# Dando continuidade, vamos separar a coluna modalidade. Lembre-se que preenchemos anteriormente os valores ausentes\n",
        "# Perceba que existe um delimitador nesta coluna, o hífen (-). Então vamos usar outro mátodo para realizar a separação: o split()\n",
        "# Dados da primeira linha: PRES-Mod\n",
        "valor = 'PRES-Mod'\n",
        "valor.split('-')"
      ]
    },
    {
      "cell_type": "code",
      "execution_count": null,
      "id": "de59875e-3c88-40e6-ae15-1ba18c2927df",
      "metadata": {
        "id": "de59875e-3c88-40e6-ae15-1ba18c2927df"
      },
      "outputs": [],
      "source": [
        "# Foi criada uma lista e vamos recuperar os valores pelos índices\n",
        "print(valor.split('-')[0])\n",
        "print(valor.split('-')[1])"
      ]
    },
    {
      "cell_type": "code",
      "execution_count": null,
      "id": "c80d9703-6888-4c4e-93ea-5bf2d8fe71b5",
      "metadata": {
        "id": "c80d9703-6888-4c4e-93ea-5bf2d8fe71b5"
      },
      "outputs": [],
      "source": [
        "# O valor retornado está abreviado, então vamos aplicar uma expressão regular para substituir o valor por extenso\n",
        "\n",
        "import re # biblioteca para expressões regulares\n",
        "\n",
        "# separando os valores\n",
        "df['tipo'] = df.modalidade.str.split('-').str.get(0)\n",
        "df['estrutura'] = df.modalidade.str.split('-').str.get(1)\n",
        "\n",
        "# usando um lambda para percorrer as linhas e fazer a atualização dos dados\n",
        "df['tipo'] = df.tipo.apply(lambda x: re.sub('PRES', 'Presencial', str(x)))\n",
        "df.head()"
      ]
    },
    {
      "cell_type": "code",
      "execution_count": null,
      "id": "aa383b59-1e05-4bbf-a18e-a56153793a56",
      "metadata": {
        "id": "aa383b59-1e05-4bbf-a18e-a56153793a56"
      },
      "outputs": [],
      "source": [
        "# Outra forma de renomear valores, utilizando funções do Pandas\n",
        "df['estrutura'] = df['estrutura'].replace(['Mod','Seq'],['Modular','Sequencial'])\n",
        "df.head()"
      ]
    },
    {
      "cell_type": "code",
      "execution_count": null,
      "id": "0f847ff3-c5c6-4760-8173-8a37d858c73f",
      "metadata": {
        "id": "0f847ff3-c5c6-4760-8173-8a37d858c73f"
      },
      "outputs": [],
      "source": [
        "# Copiando o DataFrame e excluindo as colunas antigas\n",
        "df.drop(['identificador', 'cursosem', 'modalidade'], axis=1, inplace=True)\n",
        "df.head()"
      ]
    },
    {
      "cell_type": "code",
      "execution_count": null,
      "id": "8cd2fc9d-f93a-4298-8436-0bde2c3d7ebc",
      "metadata": {
        "id": "8cd2fc9d-f93a-4298-8436-0bde2c3d7ebc"
      },
      "outputs": [],
      "source": [
        "# Renomeando colunas\n",
        "# Neste caso vamos usar esse método para relembrar como renomear colunas.\n",
        "# Além disso, no passo anterior foi definido o nome como 'tipo' porque já tinha a 'modalidade'\n",
        "colunas = {'tipo':'modalidade'}\n",
        "df.rename(columns=colunas, inplace=True)\n",
        "df.head()"
      ]
    },
    {
      "cell_type": "code",
      "execution_count": null,
      "id": "5379812a-d2f0-42ef-82d1-dc5ee0809cd4",
      "metadata": {
        "id": "5379812a-d2f0-42ef-82d1-dc5ee0809cd4"
      },
      "outputs": [],
      "source": [
        "# Reordenando as colunas\n",
        "df = df.reindex(columns=['matricula','bolsista','ingresso','campus','curso','semestre','modalidade','estrutura','chipvivo'])\n",
        "df.head()"
      ]
    },
    {
      "cell_type": "code",
      "execution_count": null,
      "id": "2f7fd8ba-fd95-4f0b-b642-20f164317e89",
      "metadata": {
        "id": "2f7fd8ba-fd95-4f0b-b642-20f164317e89"
      },
      "outputs": [],
      "source": [
        "df.info()"
      ]
    },
    {
      "cell_type": "markdown",
      "id": "3bb875b8-e316-45f9-b487-52f8d0604f4f",
      "metadata": {
        "tags": [],
        "id": "3bb875b8-e316-45f9-b487-52f8d0604f4f"
      },
      "source": [
        "### Etapa 6 - Alterando `tipos` de dados das colunas"
      ]
    },
    {
      "cell_type": "code",
      "execution_count": null,
      "id": "f7837520-6709-4637-a491-26a326da4c5f",
      "metadata": {
        "id": "f7837520-6709-4637-a491-26a326da4c5f"
      },
      "outputs": [],
      "source": [
        "# O tipo de dados de 'semestre' está como String. Vamos trocar para 'int'\n",
        "# Apesar do campo 'ingresso' representar o ano, não há necessidade conversão para o tipo data. Vamos deixar como 'int'.\n",
        "df['ingresso'] = df['ingresso'].astype(int)\n",
        "df['semestre'] = df[\"semestre\"].astype(int)"
      ]
    },
    {
      "cell_type": "code",
      "execution_count": null,
      "id": "a7793891-b885-4bdb-b7b5-8a931609b542",
      "metadata": {
        "id": "a7793891-b885-4bdb-b7b5-8a931609b542"
      },
      "outputs": [],
      "source": [
        "df.info()"
      ]
    },
    {
      "cell_type": "markdown",
      "id": "a2bf8d2a-4616-4b8d-a146-b9c7a7ffb779",
      "metadata": {
        "tags": [],
        "id": "a2bf8d2a-4616-4b8d-a146-b9c7a7ffb779"
      },
      "source": [
        "### Etapa 7 - Salvando os dados tratados"
      ]
    },
    {
      "cell_type": "code",
      "execution_count": null,
      "id": "7d29884d-3521-4354-a6bc-962b6099431c",
      "metadata": {
        "id": "7d29884d-3521-4354-a6bc-962b6099431c"
      },
      "outputs": [],
      "source": [
        "# Agora que já temos o DataFrame totalmente tratado, vamos salvar uma cópia.\n",
        "df.to_csv('dados_limpos.csv', index=None)"
      ]
    },
    {
      "cell_type": "code",
      "execution_count": null,
      "id": "dfa1706f-9398-4908-a6b7-3e4d9eb3eb17",
      "metadata": {
        "id": "dfa1706f-9398-4908-a6b7-3e4d9eb3eb17"
      },
      "outputs": [],
      "source": [
        "df.head()"
      ]
    },
    {
      "cell_type": "markdown",
      "id": "674bbbdb-812a-4052-a5c8-c3110bee4d7c",
      "metadata": {
        "tags": [],
        "id": "674bbbdb-812a-4052-a5c8-c3110bee4d7c"
      },
      "source": [
        "### Etapa 8 - Realizando algumas análises"
      ]
    },
    {
      "cell_type": "code",
      "execution_count": null,
      "id": "aeaf00d8-e82a-4357-8939-62c579ccb331",
      "metadata": {
        "tags": [],
        "id": "aeaf00d8-e82a-4357-8939-62c579ccb331"
      },
      "outputs": [],
      "source": [
        "# Número de ingressos por ano\n",
        "df.groupby([\"ingresso\"])[\"ingresso\"].count().plot(kind='bar')"
      ]
    },
    {
      "cell_type": "code",
      "execution_count": null,
      "id": "fa87aefc-731c-4165-a11e-997734b962aa",
      "metadata": {
        "id": "fa87aefc-731c-4165-a11e-997734b962aa"
      },
      "outputs": [],
      "source": [
        "# Número de alunos por campus\n",
        "df.groupby(['campus'])['campus'].count().sort_values(ascending=False)"
      ]
    },
    {
      "cell_type": "code",
      "execution_count": null,
      "id": "55203cd6-b41c-4f35-96bd-8259b746fcde",
      "metadata": {
        "id": "55203cd6-b41c-4f35-96bd-8259b746fcde"
      },
      "outputs": [],
      "source": [
        "# Gráfico em ordem decrescente\n",
        "df.groupby(['campus'])['campus'].count().sort_values(ascending=False).plot(kind='bar')"
      ]
    },
    {
      "cell_type": "code",
      "execution_count": null,
      "id": "4145255a-e1c5-4123-9f8f-3be76ea1c9fd",
      "metadata": {
        "id": "4145255a-e1c5-4123-9f8f-3be76ea1c9fd"
      },
      "outputs": [],
      "source": []
    }
  ],
  "metadata": {
    "kernelspec": {
      "display_name": "Python 3 (ipykernel)",
      "language": "python",
      "name": "python3"
    },
    "language_info": {
      "codemirror_mode": {
        "name": "ipython",
        "version": 3
      },
      "file_extension": ".py",
      "mimetype": "text/x-python",
      "name": "python",
      "nbconvert_exporter": "python",
      "pygments_lexer": "ipython3",
      "version": "3.9.12"
    },
    "colab": {
      "provenance": [],
      "include_colab_link": true
    }
  },
  "nbformat": 4,
  "nbformat_minor": 5
}